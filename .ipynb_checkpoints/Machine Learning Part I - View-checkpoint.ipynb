{
 "cells": [
  {
   "cell_type": "code",
   "execution_count": 1,
   "id": "1292808e",
   "metadata": {},
   "outputs": [
    {
     "name": "stdout",
     "output_type": "stream",
     "text": [
      "done\n"
     ]
    }
   ],
   "source": [
    "import pandas as pd\n",
    "import numpy as np\n",
    "import matplotlib.pyplot as plt\n",
    "import seaborn as sns\n",
    "from sklearn.preprocessing import LabelEncoder\n",
    "import warnings \n",
    "warnings.filterwarnings('ignore')\n",
    "print(\"done\")\n"
   ]
  },
  {
   "cell_type": "code",
   "execution_count": 2,
   "id": "006a1623",
   "metadata": {},
   "outputs": [
    {
     "data": {
      "text/html": [
       "<div>\n",
       "<style scoped>\n",
       "    .dataframe tbody tr th:only-of-type {\n",
       "        vertical-align: middle;\n",
       "    }\n",
       "\n",
       "    .dataframe tbody tr th {\n",
       "        vertical-align: top;\n",
       "    }\n",
       "\n",
       "    .dataframe thead th {\n",
       "        text-align: right;\n",
       "    }\n",
       "</style>\n",
       "<table border=\"1\" class=\"dataframe\">\n",
       "  <thead>\n",
       "    <tr style=\"text-align: right;\">\n",
       "      <th></th>\n",
       "      <th>Total_Days</th>\n",
       "      <th>amount_raised_usd</th>\n",
       "      <th>amount_raised_usd_boxcox</th>\n",
       "      <th>state</th>\n",
       "      <th>currency</th>\n",
       "      <th>category</th>\n",
       "      <th>month_launch</th>\n",
       "    </tr>\n",
       "  </thead>\n",
       "  <tbody>\n",
       "    <tr>\n",
       "      <th>0</th>\n",
       "      <td>21</td>\n",
       "      <td>840.0</td>\n",
       "      <td>5.514380</td>\n",
       "      <td>0</td>\n",
       "      <td>USD</td>\n",
       "      <td>Transportation</td>\n",
       "      <td>4</td>\n",
       "    </tr>\n",
       "    <tr>\n",
       "      <th>1</th>\n",
       "      <td>22</td>\n",
       "      <td>250.0</td>\n",
       "      <td>4.682444</td>\n",
       "      <td>0</td>\n",
       "      <td>USD</td>\n",
       "      <td>Human Rights</td>\n",
       "      <td>6</td>\n",
       "    </tr>\n",
       "    <tr>\n",
       "      <th>2</th>\n",
       "      <td>22</td>\n",
       "      <td>200.0</td>\n",
       "      <td>4.522399</td>\n",
       "      <td>0</td>\n",
       "      <td>USD</td>\n",
       "      <td>Human Rights</td>\n",
       "      <td>6</td>\n",
       "    </tr>\n",
       "    <tr>\n",
       "      <th>3</th>\n",
       "      <td>30</td>\n",
       "      <td>500.0</td>\n",
       "      <td>5.165823</td>\n",
       "      <td>0</td>\n",
       "      <td>USD</td>\n",
       "      <td>Photography</td>\n",
       "      <td>9</td>\n",
       "    </tr>\n",
       "    <tr>\n",
       "      <th>4</th>\n",
       "      <td>120</td>\n",
       "      <td>360.0</td>\n",
       "      <td>4.939299</td>\n",
       "      <td>0</td>\n",
       "      <td>USD</td>\n",
       "      <td>Human Rights</td>\n",
       "      <td>9</td>\n",
       "    </tr>\n",
       "  </tbody>\n",
       "</table>\n",
       "</div>"
      ],
      "text/plain": [
       "   Total_Days  amount_raised_usd  amount_raised_usd_boxcox  state currency  \\\n",
       "0          21              840.0                  5.514380      0      USD   \n",
       "1          22              250.0                  4.682444      0      USD   \n",
       "2          22              200.0                  4.522399      0      USD   \n",
       "3          30              500.0                  5.165823      0      USD   \n",
       "4         120              360.0                  4.939299      0      USD   \n",
       "\n",
       "         category  month_launch  \n",
       "0  Transportation             4  \n",
       "1    Human Rights             6  \n",
       "2    Human Rights             6  \n",
       "3     Photography             9  \n",
       "4    Human Rights             9  "
      ]
     },
     "execution_count": 2,
     "metadata": {},
     "output_type": "execute_result"
    }
   ],
   "source": [
    "df = pd.read_csv(\"variables.csv\")\n",
    "df = df.drop(['Unnamed: 0'],axis=1)\n",
    "df.head()"
   ]
  },
  {
   "cell_type": "code",
   "execution_count": 3,
   "id": "215e6800",
   "metadata": {},
   "outputs": [
    {
     "data": {
      "text/html": [
       "<div>\n",
       "<style scoped>\n",
       "    .dataframe tbody tr th:only-of-type {\n",
       "        vertical-align: middle;\n",
       "    }\n",
       "\n",
       "    .dataframe tbody tr th {\n",
       "        vertical-align: top;\n",
       "    }\n",
       "\n",
       "    .dataframe thead th {\n",
       "        text-align: right;\n",
       "    }\n",
       "</style>\n",
       "<table border=\"1\" class=\"dataframe\">\n",
       "  <thead>\n",
       "    <tr style=\"text-align: right;\">\n",
       "      <th></th>\n",
       "      <th>Total_Days</th>\n",
       "      <th>currency</th>\n",
       "      <th>category</th>\n",
       "      <th>month_launch</th>\n",
       "    </tr>\n",
       "  </thead>\n",
       "  <tbody>\n",
       "    <tr>\n",
       "      <th>0</th>\n",
       "      <td>21</td>\n",
       "      <td>USD</td>\n",
       "      <td>Transportation</td>\n",
       "      <td>4</td>\n",
       "    </tr>\n",
       "    <tr>\n",
       "      <th>1</th>\n",
       "      <td>22</td>\n",
       "      <td>USD</td>\n",
       "      <td>Human Rights</td>\n",
       "      <td>6</td>\n",
       "    </tr>\n",
       "    <tr>\n",
       "      <th>2</th>\n",
       "      <td>22</td>\n",
       "      <td>USD</td>\n",
       "      <td>Human Rights</td>\n",
       "      <td>6</td>\n",
       "    </tr>\n",
       "    <tr>\n",
       "      <th>3</th>\n",
       "      <td>30</td>\n",
       "      <td>USD</td>\n",
       "      <td>Photography</td>\n",
       "      <td>9</td>\n",
       "    </tr>\n",
       "    <tr>\n",
       "      <th>4</th>\n",
       "      <td>120</td>\n",
       "      <td>USD</td>\n",
       "      <td>Human Rights</td>\n",
       "      <td>9</td>\n",
       "    </tr>\n",
       "  </tbody>\n",
       "</table>\n",
       "</div>"
      ],
      "text/plain": [
       "   Total_Days currency        category  month_launch\n",
       "0          21      USD  Transportation             4\n",
       "1          22      USD    Human Rights             6\n",
       "2          22      USD    Human Rights             6\n",
       "3          30      USD     Photography             9\n",
       "4         120      USD    Human Rights             9"
      ]
     },
     "execution_count": 3,
     "metadata": {},
     "output_type": "execute_result"
    }
   ],
   "source": [
    "df_x = df[['Total_Days','currency','category','month_launch']]\n",
    "df_x.head()"
   ]
  },
  {
   "cell_type": "code",
   "execution_count": 4,
   "id": "6c5d4d66",
   "metadata": {},
   "outputs": [
    {
     "data": {
      "text/html": [
       "<div>\n",
       "<style scoped>\n",
       "    .dataframe tbody tr th:only-of-type {\n",
       "        vertical-align: middle;\n",
       "    }\n",
       "\n",
       "    .dataframe tbody tr th {\n",
       "        vertical-align: top;\n",
       "    }\n",
       "\n",
       "    .dataframe thead th {\n",
       "        text-align: right;\n",
       "    }\n",
       "</style>\n",
       "<table border=\"1\" class=\"dataframe\">\n",
       "  <thead>\n",
       "    <tr style=\"text-align: right;\">\n",
       "      <th></th>\n",
       "      <th>amount_raised_usd_boxcox</th>\n",
       "      <th>state</th>\n",
       "    </tr>\n",
       "  </thead>\n",
       "  <tbody>\n",
       "    <tr>\n",
       "      <th>0</th>\n",
       "      <td>5.514380</td>\n",
       "      <td>0</td>\n",
       "    </tr>\n",
       "    <tr>\n",
       "      <th>1</th>\n",
       "      <td>4.682444</td>\n",
       "      <td>0</td>\n",
       "    </tr>\n",
       "    <tr>\n",
       "      <th>2</th>\n",
       "      <td>4.522399</td>\n",
       "      <td>0</td>\n",
       "    </tr>\n",
       "    <tr>\n",
       "      <th>3</th>\n",
       "      <td>5.165823</td>\n",
       "      <td>0</td>\n",
       "    </tr>\n",
       "    <tr>\n",
       "      <th>4</th>\n",
       "      <td>4.939299</td>\n",
       "      <td>0</td>\n",
       "    </tr>\n",
       "  </tbody>\n",
       "</table>\n",
       "</div>"
      ],
      "text/plain": [
       "   amount_raised_usd_boxcox  state\n",
       "0                  5.514380      0\n",
       "1                  4.682444      0\n",
       "2                  4.522399      0\n",
       "3                  5.165823      0\n",
       "4                  4.939299      0"
      ]
     },
     "execution_count": 4,
     "metadata": {},
     "output_type": "execute_result"
    }
   ],
   "source": [
    "df_y = df[['amount_raised_usd_boxcox','state']]\n",
    "df_y.head()"
   ]
  },
  {
   "cell_type": "code",
   "execution_count": 5,
   "id": "465d7e0b",
   "metadata": {},
   "outputs": [
    {
     "name": "stdout",
     "output_type": "stream",
     "text": [
      "<class 'pandas.core.frame.DataFrame'>\n",
      "RangeIndex: 20618 entries, 0 to 20617\n",
      "Data columns (total 4 columns):\n",
      " #   Column        Non-Null Count  Dtype \n",
      "---  ------        --------------  ----- \n",
      " 0   Total_Days    20618 non-null  int64 \n",
      " 1   currency      20618 non-null  object\n",
      " 2   category      20618 non-null  object\n",
      " 3   month_launch  20618 non-null  int64 \n",
      "dtypes: int64(2), object(2)\n",
      "memory usage: 644.4+ KB\n"
     ]
    }
   ],
   "source": [
    "df_x.info()"
   ]
  },
  {
   "cell_type": "code",
   "execution_count": 6,
   "id": "4f246404",
   "metadata": {},
   "outputs": [
    {
     "name": "stdout",
     "output_type": "stream",
     "text": [
      "<class 'pandas.core.frame.DataFrame'>\n",
      "RangeIndex: 20618 entries, 0 to 20617\n",
      "Data columns (total 4 columns):\n",
      " #   Column        Non-Null Count  Dtype \n",
      "---  ------        --------------  ----- \n",
      " 0   Total_Days    20618 non-null  object\n",
      " 1   currency      20618 non-null  object\n",
      " 2   category      20618 non-null  object\n",
      " 3   month_launch  20618 non-null  object\n",
      "dtypes: object(4)\n",
      "memory usage: 644.4+ KB\n"
     ]
    }
   ],
   "source": [
    "# change datatype to object\n",
    "df_x['Total_Days'] = df_x['Total_Days'].astype('object')\n",
    "df_x['month_launch'] = df_x['month_launch'].astype('object')\n",
    "df_x.info()\n"
   ]
  },
  {
   "cell_type": "code",
   "execution_count": 7,
   "id": "4298b91a",
   "metadata": {},
   "outputs": [
    {
     "data": {
      "text/plain": [
       "Index(['Total_Days', 'currency', 'category', 'month_launch'], dtype='object')"
      ]
     },
     "execution_count": 7,
     "metadata": {},
     "output_type": "execute_result"
    }
   ],
   "source": [
    "label = LabelEncoder()\n",
    "x_col = df_x.columns\n",
    "x_col\n"
   ]
  },
  {
   "cell_type": "code",
   "execution_count": 8,
   "id": "b45de7ae",
   "metadata": {},
   "outputs": [],
   "source": [
    "for col in x_col:\n",
    "    df_x[col] = label.fit_transform(df_x[col])"
   ]
  },
  {
   "cell_type": "code",
   "execution_count": 9,
   "id": "f8c252ec",
   "metadata": {},
   "outputs": [
    {
     "data": {
      "text/html": [
       "<div>\n",
       "<style scoped>\n",
       "    .dataframe tbody tr th:only-of-type {\n",
       "        vertical-align: middle;\n",
       "    }\n",
       "\n",
       "    .dataframe tbody tr th {\n",
       "        vertical-align: top;\n",
       "    }\n",
       "\n",
       "    .dataframe thead th {\n",
       "        text-align: right;\n",
       "    }\n",
       "</style>\n",
       "<table border=\"1\" class=\"dataframe\">\n",
       "  <thead>\n",
       "    <tr style=\"text-align: right;\">\n",
       "      <th></th>\n",
       "      <th>Total_Days</th>\n",
       "      <th>currency</th>\n",
       "      <th>category</th>\n",
       "      <th>month_launch</th>\n",
       "    </tr>\n",
       "  </thead>\n",
       "  <tbody>\n",
       "    <tr>\n",
       "      <th>11658</th>\n",
       "      <td>45</td>\n",
       "      <td>10</td>\n",
       "      <td>2</td>\n",
       "      <td>9</td>\n",
       "    </tr>\n",
       "    <tr>\n",
       "      <th>13054</th>\n",
       "      <td>40</td>\n",
       "      <td>10</td>\n",
       "      <td>14</td>\n",
       "      <td>3</td>\n",
       "    </tr>\n",
       "    <tr>\n",
       "      <th>3449</th>\n",
       "      <td>30</td>\n",
       "      <td>4</td>\n",
       "      <td>23</td>\n",
       "      <td>5</td>\n",
       "    </tr>\n",
       "    <tr>\n",
       "      <th>13556</th>\n",
       "      <td>30</td>\n",
       "      <td>1</td>\n",
       "      <td>25</td>\n",
       "      <td>5</td>\n",
       "    </tr>\n",
       "    <tr>\n",
       "      <th>18286</th>\n",
       "      <td>30</td>\n",
       "      <td>10</td>\n",
       "      <td>0</td>\n",
       "      <td>0</td>\n",
       "    </tr>\n",
       "  </tbody>\n",
       "</table>\n",
       "</div>"
      ],
      "text/plain": [
       "       Total_Days  currency  category  month_launch\n",
       "11658          45        10         2             9\n",
       "13054          40        10        14             3\n",
       "3449           30         4        23             5\n",
       "13556          30         1        25             5\n",
       "18286          30        10         0             0"
      ]
     },
     "execution_count": 9,
     "metadata": {},
     "output_type": "execute_result"
    }
   ],
   "source": [
    "from sklearn.model_selection import train_test_split\n",
    "\n",
    "# splitting Data\n",
    "x_train, x_test, y_train, y_test = train_test_split(df_x,df_y,test_size = 0.2,random_state =42)\n",
    "x_train.head()\n"
   ]
  },
  {
   "cell_type": "code",
   "execution_count": 10,
   "id": "87e36de2",
   "metadata": {},
   "outputs": [],
   "source": [
    "# onehot processing\n",
    "df_x_onehot = df_x.copy()\n",
    "\n",
    "for c in df_x_onehot.columns:\n",
    "    df_x_onehot[c] = df_x_onehot[c].astype('object') # changing to object type for onehot processsing\n",
    "    \n",
    "df_x_onehot = pd.get_dummies(df_x_onehot)\n",
    "\n",
    "x_train_onehot, x_test_onehot, y_train_onehot, y_test_onehot = train_test_split(df_x_onehot ,df_y,test_size=0.2,random_state=42)\n"
   ]
  },
  {
   "cell_type": "code",
   "execution_count": 11,
   "id": "dbc37ca8",
   "metadata": {},
   "outputs": [
    {
     "data": {
      "text/plain": [
       "DecisionTreeClassifier(random_state=42)"
      ]
     },
     "execution_count": 11,
     "metadata": {},
     "output_type": "execute_result"
    }
   ],
   "source": [
    "# Training Using Decision Tree Classifier Model\n",
    "from sklearn.tree import DecisionTreeClassifier\n",
    "tree_clf = DecisionTreeClassifier(random_state=42)\n",
    "tree_clf.fit(x_train,y_train['state'])"
   ]
  },
  {
   "cell_type": "markdown",
   "id": "305e1773",
   "metadata": {},
   "source": [
    "#### RandomForest Classifier\n",
    "A random forest classifier is a machine learning algorithm that can be used for classification tasks. It is a type of ensemble learning method that combines multiple decision trees to make predictions. We feed it data without one-hot encoding as they generally perform worst due to curses of dimensionality.\n",
    "\n",
    "Referrences:\n",
    "https://towardsdatascience.com/one-hot-encoding-is-making-your-tree-based-ensembles-worse-heres-why-d64b282b5769"
   ]
  },
  {
   "cell_type": "code",
   "execution_count": 12,
   "id": "2f129e90",
   "metadata": {},
   "outputs": [
    {
     "data": {
      "text/plain": [
       "RandomForestClassifier(random_state=42)"
      ]
     },
     "execution_count": 12,
     "metadata": {},
     "output_type": "execute_result"
    }
   ],
   "source": [
    "# Training using Random Forest Classifier Model\n",
    "from sklearn.ensemble import RandomForestClassifier\n",
    "random_clf = RandomForestClassifier(random_state=42)\n",
    "random_clf.fit(x_train,y_train['state'])"
   ]
  },
  {
   "cell_type": "markdown",
   "id": "eae16889",
   "metadata": {},
   "source": [
    "#### Support Vector Classifier\n",
    "The SVC algorithm works by finding the hyperplane that maximally separates the classes in the feature space. The hyperplane is the boundary line that separates the classes with the maximum margin, which is the distance between the hyperplane and the closest data points from each class.\n",
    "\n",
    "During the training process, the SVC algorithm tries to find the optimal hyperplane that separates the data points with the maximum margin. This is done by finding the support vectors, which are the data points closest to the hyperplane. The support vectors are used to define the position and orientation of the hyperplane, which can then be used to classify new data points\n",
    "\n",
    "The main idea behind SVC is to find the best decision boundary that separates the different classes of data points. It is able to spot non-linear relationship through the help of \"kernel tricks\" too.\n",
    "\n",
    "Referrences: \n",
    "1) https://www.kaggle.com/code/prashant111/svm-classifier-tutorial"
   ]
  },
  {
   "cell_type": "code",
   "execution_count": 13,
   "id": "4ae5dc4f",
   "metadata": {},
   "outputs": [
    {
     "data": {
      "text/plain": [
       "SVC(kernel='linear')"
      ]
     },
     "execution_count": 13,
     "metadata": {},
     "output_type": "execute_result"
    }
   ],
   "source": [
    "# support Vector linear Classifier\n",
    "from sklearn.svm import SVC\n",
    "support_clf_lin = SVC(kernel='linear')\n",
    "support_clf_lin.fit(x_train_onehot,y_train_onehot['state'])"
   ]
  },
  {
   "cell_type": "code",
   "execution_count": 14,
   "id": "b0e94c24",
   "metadata": {},
   "outputs": [
    {
     "data": {
      "text/plain": [
       "SVC(kernel='poly')"
      ]
     },
     "execution_count": 14,
     "metadata": {},
     "output_type": "execute_result"
    }
   ],
   "source": [
    "# support Vector poly Classifier\n",
    "support_clf_poly = SVC(kernel='poly')\n",
    "support_clf_poly.fit(x_train_onehot,y_train_onehot['state'])"
   ]
  },
  {
   "cell_type": "code",
   "execution_count": 15,
   "id": "27c8ae0a",
   "metadata": {},
   "outputs": [
    {
     "data": {
      "text/plain": [
       "SVC()"
      ]
     },
     "execution_count": 15,
     "metadata": {},
     "output_type": "execute_result"
    }
   ],
   "source": [
    "# support Vector rbf Classifier\n",
    "support_clf_rbf = SVC(kernel='rbf')\n",
    "support_clf_rbf.fit(x_train_onehot,y_train_onehot['state'])"
   ]
  },
  {
   "cell_type": "code",
   "execution_count": 16,
   "id": "ee7c4b91",
   "metadata": {},
   "outputs": [
    {
     "data": {
      "text/plain": [
       "SVC(kernel='sigmoid')"
      ]
     },
     "execution_count": 16,
     "metadata": {},
     "output_type": "execute_result"
    }
   ],
   "source": [
    "# support Vector sigmoid Classifier\n",
    "support_clf_sig = SVC(kernel='sigmoid')\n",
    "support_clf_sig.fit(x_train_onehot,y_train_onehot['state'])"
   ]
  },
  {
   "cell_type": "markdown",
   "id": "565d0881",
   "metadata": {},
   "source": [
    "#### K nearest neighbors classifier\n",
    "The KNN algorithm works by finding the K closest data points to a new data point in the training set, and predicting the class of the new data point based on the classes of the K nearest neighbors.\n",
    "\n",
    "Referrences: 1)https://www.kaggle.com/code/prashant111/knn-classifier-tutorial"
   ]
  },
  {
   "cell_type": "code",
   "execution_count": 17,
   "id": "499bc1cd",
   "metadata": {},
   "outputs": [
    {
     "data": {
      "text/plain": [
       "KNeighborsClassifier()"
      ]
     },
     "execution_count": 17,
     "metadata": {},
     "output_type": "execute_result"
    }
   ],
   "source": [
    "# K neighbors classifier\n",
    "from sklearn.neighbors import KNeighborsClassifier\n",
    "neighbor_clf = KNeighborsClassifier()\n",
    "neighbor_clf.fit(x_train_onehot,y_train_onehot['state'])"
   ]
  },
  {
   "cell_type": "markdown",
   "id": "fe876b3d",
   "metadata": {},
   "source": [
    "#### Extreme Gradient Boosting (XGB) classifier\n",
    "The XGBoost algorithm works by iteratively adding weak decision tree models to the ensemble, with each tree trained to correct the mistakes made by the previous trees. The algorithm optimizes the overall objective function by minimizing the sum of the loss function over all the individual trees\n",
    "\n",
    "During the training process, XGBoost uses a gradient descent optimization algorithm to find the best weights for each tree in the ensemble. The algorithm also includes regularization techniques such as L1 and L2 regularization, to prevent overfitting and improve the model's generalization performance.\n",
    "\n",
    "To classify a new data point, XGBoost combines the predictions of all the individual trees in the ensemble. The final prediction is made by taking the weighted average of the individual tree predictions, with the weights determined by the tree's performance on the training data\n",
    "\n",
    "Referrences:\n",
    "1) https://www.kaggle.com/getting-started/145362\n",
    "\n",
    "2) https://xgboost.readthedocs.io/en/stable/"
   ]
  },
  {
   "cell_type": "code",
   "execution_count": 18,
   "id": "2e3a26b0",
   "metadata": {},
   "outputs": [
    {
     "data": {
      "text/plain": [
       "XGBClassifier(base_score=None, booster=None, callbacks=None,\n",
       "              colsample_bylevel=None, colsample_bynode=None,\n",
       "              colsample_bytree=None, early_stopping_rounds=None,\n",
       "              enable_categorical=False, eval_metric=None, feature_types=None,\n",
       "              gamma=None, gpu_id=None, grow_policy=None, importance_type=None,\n",
       "              interaction_constraints=None, learning_rate=None, max_bin=None,\n",
       "              max_cat_threshold=None, max_cat_to_onehot=None,\n",
       "              max_delta_step=None, max_depth=None, max_leaves=None,\n",
       "              min_child_weight=None, missing=nan, monotone_constraints=None,\n",
       "              n_estimators=100, n_jobs=None, num_parallel_tree=None,\n",
       "              predictor=None, random_state=None, ...)"
      ]
     },
     "execution_count": 18,
     "metadata": {},
     "output_type": "execute_result"
    }
   ],
   "source": [
    "from xgboost import XGBClassifier\n",
    "xgb_clf = XGBClassifier()\n",
    "xgb_clf.fit(x_train_onehot,y_train_onehot['state'])"
   ]
  },
  {
   "cell_type": "code",
   "execution_count": 19,
   "id": "829b0ddd",
   "metadata": {},
   "outputs": [],
   "source": [
    "from sklearn.metrics import confusion_matrix, recall_score, precision_score, f1_score\n",
    "\n",
    "def clf_report_metrics(model,x_test,y_test,figsize=(8,4)):\n",
    "    \n",
    "    pred_clf = model.predict(x_test)\n",
    "    conf_matrix = confusion_matrix(y_test, pred_clf)\n",
    "    recall = recall_score(y_test,pred_clf)\n",
    "    precision = precision_score(y_test,pred_clf)\n",
    "    f1 = f1_score(y_test,pred_clf)\n",
    "    \n",
    "    \n",
    "    # metrics\n",
    "    print(f\"METRICS:\\n\")\n",
    "    print(f\"Recall: {recall:.3f}\")\n",
    "    print(f\"Precision: {precision:.3f}\")\n",
    "    print(f\"F1 Score: {f1:.3f}\")\n",
    "    print(\"__________________________________________________________________________\")\n",
    "    print()\n",
    "    \n",
    "    # Confusion Matrix\n",
    "    print(f\"Confusion Matrix: \\n \")\n",
    "    fig,axes = plt.subplots(1,2,sharey=True,sharex=True,figsize=figsize)\n",
    "    # by count\n",
    "    sns.heatmap(conf_matrix,annot=True,fmt = \".0f\",ax=axes[0],cbar=False)\n",
    "    axes[0].set_title(\"count\")\n",
    "    # by percentage\n",
    "    sns.heatmap((conf_matrix/np.sum(conf_matrix)),annot=True,fmt=\".2%\",cmap='Blues',ax=axes[1],cbar=False)\n",
    "    axes[1].set_title(\"percentage\")\n",
    "    \n",
    "    # formatting labels\n",
    "    fig.supxlabel('Predicted')\n",
    "    fig.supylabel('Actual')\n",
    "    \n",
    "    plt.show()\n",
    "    \n",
    "    return recall, precision, f1\n",
    "    \n",
    "    \n",
    "    "
   ]
  },
  {
   "cell_type": "markdown",
   "id": "94ce77f6",
   "metadata": {},
   "source": [
    "We know that our model consist of more negative samples than positive samples in the success state of the campaign. Hence, accuracy will not be a good measure to predict our case study. We will use other measures like Precision, Recall and F1 Score.\n",
    "\n",
    "- <b>Precision = TP/TP+FP</b>\n",
    "\n",
    "From the equation, we can see that it measures out of the predicted positive, how many are True Positive?\n",
    "- <b>Recall = TP/TP+FN</b>\n",
    "\n",
    "From the equation we can see that it measures out of the actual positive, how many are True Positive?\n",
    "- <b> F1 Score = 2 * (Precision*Recall)/(Precison+Recall)</b>\n",
    "\n",
    "This metrics seek to seek the balance between precision and recall\n",
    "    \n",
    "Our case study involves us to predict whether the campaign will be successful given the x_variable. We will ask ourselves, which is more damaging if an imaginary client uses the model.\n",
    "\n",
    "<b>False positive</b> will indicate that our model predicted that you will be successful in your campaign if you launch using these variables, but in actual, you would not be successful.\n",
    "    \n",
    "<b>False negative</b> will indicate that our model predicted that you will not be successful in your campaign if you launch using these variables, but in actual, you will be successful.\n",
    "\n",
    "It does seem that both are important, but perhaps, precision might be more important in this case. Because, if we tell our client that <I><b>he will be successful in his campaign according to the model, but if he launch his campaign and is not successful</b></I>, it shows <b>our model is incapable</b>.\n",
    "    \n",
    "On the other hand, if we tell him that <I><b>he will not be successful</b></I> given the variables when in actual he might succeed, then he still <I><b>can make further adjustment in his variables before launching the campaign</b></I>. Thus, recall pales in comparison to precision in our use case.\n",
    "\n",
    "Nonetheless, it is can still be an important metric. \n",
    "Perhaps, we should have the goal to optimise both <b>Precision and F1 score</b> in our classification case study\n",
    "\n",
    "References:\n",
    "1) https://towardsdatascience.com/accuracy-precision-recall-or-f1-331fb37c5cb9\n"
   ]
  },
  {
   "cell_type": "markdown",
   "id": "cde25645",
   "metadata": {},
   "source": [
    "#### Model Fitting"
   ]
  },
  {
   "cell_type": "code",
   "execution_count": 20,
   "id": "74f7aa22",
   "metadata": {},
   "outputs": [
    {
     "name": "stdout",
     "output_type": "stream",
     "text": [
      "METRICS:\n",
      "\n",
      "Recall: 0.474\n",
      "Precision: 0.552\n",
      "F1 Score: 0.510\n",
      "__________________________________________________________________________\n",
      "\n",
      "Confusion Matrix: \n",
      " \n"
     ]
    },
    {
     "data": {
      "image/png": "[encoded data removed]",
      "text/plain": [
       "<Figure size 576x288 with 2 Axes>"
      ]
     },
     "metadata": {
      "needs_background": "light"
     },
     "output_type": "display_data"
    },
    {
     "data": {
      "text/plain": [
       "(0.47368421052631576, 0.5515320334261838, 0.5096525096525096)"
      ]
     },
     "execution_count": 20,
     "metadata": {},
     "output_type": "execute_result"
    }
   ],
   "source": [
    "# Decision Tree Classifier\n",
    "clf_report_metrics(model=tree_clf,x_test=x_test,y_test=y_test['state'])"
   ]
  },
  {
   "cell_type": "code",
   "execution_count": 21,
   "id": "3128ed87",
   "metadata": {},
   "outputs": [
    {
     "name": "stdout",
     "output_type": "stream",
     "text": [
      "METRICS:\n",
      "\n",
      "Recall: 0.488\n",
      "Precision: 0.636\n",
      "F1 Score: 0.552\n",
      "__________________________________________________________________________\n",
      "\n",
      "Confusion Matrix: \n",
      " \n"
     ]
    },
    {
     "data": {
      "image/png": "[encoded data removed]",
      "text/plain": [
       "<Figure size 576x288 with 2 Axes>"
      ]
     },
     "metadata": {
      "needs_background": "light"
     },
     "output_type": "display_data"
    },
    {
     "data": {
      "text/plain": [
       "(0.4880382775119617, 0.6355140186915887, 0.5520974289580514)"
      ]
     },
     "execution_count": 21,
     "metadata": {},
     "output_type": "execute_result"
    }
   ],
   "source": [
    "# Random Forest Classifier\n",
    "clf_report_metrics(model=random_clf,x_test=x_test,y_test=y_test['state'])"
   ]
  },
  {
   "cell_type": "code",
   "execution_count": 22,
   "id": "7d662a5a",
   "metadata": {},
   "outputs": [
    {
     "name": "stdout",
     "output_type": "stream",
     "text": [
      "METRICS:\n",
      "\n",
      "Recall: 0.536\n",
      "Precision: 0.689\n",
      "F1 Score: 0.603\n",
      "__________________________________________________________________________\n",
      "\n",
      "Confusion Matrix: \n",
      " \n"
     ]
    },
    {
     "data": {
      "image/png": "[encoded data removed]",
      "text/plain": [
       "<Figure size 576x288 with 2 Axes>"
      ]
     },
     "metadata": {
      "needs_background": "light"
     },
     "output_type": "display_data"
    },
    {
     "data": {
      "text/plain": [
       "(0.5358851674641149, 0.6892307692307692, 0.6029609690444145)"
      ]
     },
     "execution_count": 22,
     "metadata": {},
     "output_type": "execute_result"
    }
   ],
   "source": [
    "# SVC linear Classifier\n",
    "clf_report_metrics(model=support_clf_lin,x_test=x_test_onehot,y_test=y_test_onehot['state'])"
   ]
  },
  {
   "cell_type": "code",
   "execution_count": 23,
   "id": "a5c72152",
   "metadata": {},
   "outputs": [
    {
     "name": "stdout",
     "output_type": "stream",
     "text": [
      "METRICS:\n",
      "\n",
      "Recall: 0.495\n",
      "Precision: 0.697\n",
      "F1 Score: 0.579\n",
      "__________________________________________________________________________\n",
      "\n",
      "Confusion Matrix: \n",
      " \n"
     ]
    },
    {
     "data": {
      "image/png": "[encoded data removed]",
      "text/plain": [
       "<Figure size 576x288 with 2 Axes>"
      ]
     },
     "metadata": {
      "needs_background": "light"
     },
     "output_type": "display_data"
    },
    {
     "data": {
      "text/plain": [
       "(0.49521531100478466, 0.696969696969697, 0.5790209790209789)"
      ]
     },
     "execution_count": 23,
     "metadata": {},
     "output_type": "execute_result"
    }
   ],
   "source": [
    "# SVC poly Classifier\n",
    "clf_report_metrics(model=support_clf_poly,x_test=x_test_onehot,y_test=y_test_onehot['state'])"
   ]
  },
  {
   "cell_type": "code",
   "execution_count": 24,
   "id": "10deb625",
   "metadata": {},
   "outputs": [
    {
     "name": "stdout",
     "output_type": "stream",
     "text": [
      "METRICS:\n",
      "\n",
      "Recall: 0.519\n",
      "Precision: 0.693\n",
      "F1 Score: 0.594\n",
      "__________________________________________________________________________\n",
      "\n",
      "Confusion Matrix: \n",
      " \n"
     ]
    },
    {
     "data": {
      "image/png": "[encoded data removed]",
      "text/plain": [
       "<Figure size 576x288 with 2 Axes>"
      ]
     },
     "metadata": {
      "needs_background": "light"
     },
     "output_type": "display_data"
    },
    {
     "data": {
      "text/plain": [
       "(0.5191387559808612, 0.6932907348242812, 0.5937072503419972)"
      ]
     },
     "execution_count": 24,
     "metadata": {},
     "output_type": "execute_result"
    }
   ],
   "source": [
    "# SVC rbf Classifier\n",
    "clf_report_metrics(model=support_clf_rbf,x_test=x_test_onehot,y_test=y_test_onehot['state'])"
   ]
  },
  {
   "cell_type": "code",
   "execution_count": 25,
   "id": "c1c4cf6f",
   "metadata": {},
   "outputs": [
    {
     "name": "stdout",
     "output_type": "stream",
     "text": [
      "METRICS:\n",
      "\n",
      "Recall: 0.455\n",
      "Precision: 0.528\n",
      "F1 Score: 0.488\n",
      "__________________________________________________________________________\n",
      "\n",
      "Confusion Matrix: \n",
      " \n"
     ]
    },
    {
     "data": {
      "image/png": "[encoded data removed]",
      "text/plain": [
       "<Figure size 576x288 with 2 Axes>"
      ]
     },
     "metadata": {
      "needs_background": "light"
     },
     "output_type": "display_data"
    },
    {
     "data": {
      "text/plain": [
       "(0.45454545454545453, 0.5277777777777778, 0.4884318766066838)"
      ]
     },
     "execution_count": 25,
     "metadata": {},
     "output_type": "execute_result"
    }
   ],
   "source": [
    "# SVC sigmoid classifier\n",
    "clf_report_metrics(model=support_clf_sig,x_test=x_test_onehot,y_test=y_test_onehot['state'])"
   ]
  },
  {
   "cell_type": "code",
   "execution_count": 26,
   "id": "4d06fac8",
   "metadata": {},
   "outputs": [
    {
     "name": "stdout",
     "output_type": "stream",
     "text": [
      "METRICS:\n",
      "\n",
      "Recall: 0.464\n",
      "Precision: 0.651\n",
      "F1 Score: 0.542\n",
      "__________________________________________________________________________\n",
      "\n",
      "Confusion Matrix: \n",
      " \n"
     ]
    },
    {
     "data": {
      "image/png": "[encoded data removed]",
      "text/plain": [
       "<Figure size 576x288 with 2 Axes>"
      ]
     },
     "metadata": {
      "needs_background": "light"
     },
     "output_type": "display_data"
    },
    {
     "data": {
      "text/plain": [
       "(0.46411483253588515, 0.6510067114093959, 0.541899441340782)"
      ]
     },
     "execution_count": 26,
     "metadata": {},
     "output_type": "execute_result"
    }
   ],
   "source": [
    "# K Neighbors Classifier\n",
    "clf_report_metrics(model=neighbor_clf,x_test=x_test_onehot,y_test=y_test_onehot['state'])"
   ]
  },
  {
   "cell_type": "code",
   "execution_count": 27,
   "id": "d05aeba7",
   "metadata": {},
   "outputs": [
    {
     "name": "stdout",
     "output_type": "stream",
     "text": [
      "METRICS:\n",
      "\n",
      "Recall: 0.495\n",
      "Precision: 0.690\n",
      "F1 Score: 0.577\n",
      "__________________________________________________________________________\n",
      "\n",
      "Confusion Matrix: \n",
      " \n"
     ]
    },
    {
     "data": {
      "image/png": "[encoded data removed]",
      "text/plain": [
       "<Figure size 576x288 with 2 Axes>"
      ]
     },
     "metadata": {
      "needs_background": "light"
     },
     "output_type": "display_data"
    },
    {
     "data": {
      "text/plain": [
       "(0.49521531100478466, 0.69, 0.5766016713091923)"
      ]
     },
     "execution_count": 27,
     "metadata": {},
     "output_type": "execute_result"
    }
   ],
   "source": [
    "clf_report_metrics(model=xgb_clf,x_test=x_test_onehot,y_test=y_test_onehot['state'])"
   ]
  },
  {
   "cell_type": "markdown",
   "id": "8a3dda66",
   "metadata": {},
   "source": [
    "From our results, we see that out of all the models we fit, SVC and xgboost seem to perform the best(highest precision, f1-score). We will choose these models as our prediction for classification task and do more tuning to increase their performance."
   ]
  },
  {
   "cell_type": "markdown",
   "id": "e1e7166c",
   "metadata": {},
   "source": [
    "#### Including the sentiment score in our prediction"
   ]
  },
  {
   "cell_type": "markdown",
   "id": "594ded18",
   "metadata": {},
   "source": [
    "From our previous EDA, we found out some form of relationship between the sentiment score and the success state of the campaign. We will try to incorporate it into our model and compare with the metrics to see if it improves our results."
   ]
  },
  {
   "cell_type": "code",
   "execution_count": 28,
   "id": "ed685c8a",
   "metadata": {},
   "outputs": [],
   "source": [
    "text_df = pd.read_csv(\"text_results_cleaned.csv\")"
   ]
  },
  {
   "cell_type": "code",
   "execution_count": 29,
   "id": "c2876ed5",
   "metadata": {},
   "outputs": [],
   "source": [
    "df_x_onehot['compound_tag_vader'] = text_df['compound_tag_vader']\n",
    "df_x_onehot['pos_tag_disBert'] = text_df['pos_tag_disBert']\n",
    "df_x_onehot['compound_ti_vader'] = text_df['compound_ti_vader']\n",
    "df_x_onehot['pos_ti_disBert'] = text_df['pos_ti_disBert']"
   ]
  },
  {
   "cell_type": "code",
   "execution_count": 30,
   "id": "cfc8798c",
   "metadata": {},
   "outputs": [],
   "source": [
    "x_train_onehot, x_test_onehot, y_train_onehot, y_test_onehot = train_test_split(df_x_onehot ,df_y,test_size=0.2,random_state=42)"
   ]
  },
  {
   "cell_type": "code",
   "execution_count": 31,
   "id": "ffa0139d",
   "metadata": {},
   "outputs": [
    {
     "data": {
      "text/plain": [
       "SVC()"
      ]
     },
     "execution_count": 31,
     "metadata": {},
     "output_type": "execute_result"
    }
   ],
   "source": [
    "# support Vector rbf Classifier\n",
    "support_clf_rbf = SVC(kernel='rbf')\n",
    "support_clf_rbf.fit(x_train_onehot,y_train_onehot['state'])"
   ]
  },
  {
   "cell_type": "code",
   "execution_count": 32,
   "id": "c00d11ee",
   "metadata": {},
   "outputs": [
    {
     "data": {
      "text/plain": [
       "XGBClassifier(base_score=None, booster=None, callbacks=None,\n",
       "              colsample_bylevel=None, colsample_bynode=None,\n",
       "              colsample_bytree=None, early_stopping_rounds=None,\n",
       "              enable_categorical=False, eval_metric=None, feature_types=None,\n",
       "              gamma=None, gpu_id=None, grow_policy=None, importance_type=None,\n",
       "              interaction_constraints=None, learning_rate=None, max_bin=None,\n",
       "              max_cat_threshold=None, max_cat_to_onehot=None,\n",
       "              max_delta_step=None, max_depth=None, max_leaves=None,\n",
       "              min_child_weight=None, missing=nan, monotone_constraints=None,\n",
       "              n_estimators=100, n_jobs=None, num_parallel_tree=None,\n",
       "              predictor=None, random_state=None, ...)"
      ]
     },
     "execution_count": 32,
     "metadata": {},
     "output_type": "execute_result"
    }
   ],
   "source": [
    "# XGBoost Classifier\n",
    "xgb_clf = XGBClassifier()\n",
    "xgb_clf.fit(x_train_onehot,y_train_onehot['state'])"
   ]
  },
  {
   "cell_type": "code",
   "execution_count": 33,
   "id": "1162d46c",
   "metadata": {},
   "outputs": [
    {
     "name": "stdout",
     "output_type": "stream",
     "text": [
      "METRICS:\n",
      "\n",
      "Recall: 0.529\n",
      "Precision: 0.691\n",
      "F1 Score: 0.599\n",
      "__________________________________________________________________________\n",
      "\n",
      "Confusion Matrix: \n",
      " \n"
     ]
    },
    {
     "data": {
      "image/png": "[encoded data removed]",
      "text/plain": [
       "<Figure size 576x288 with 2 Axes>"
      ]
     },
     "metadata": {
      "needs_background": "light"
     },
     "output_type": "display_data"
    },
    {
     "data": {
      "text/plain": [
       "(0.5287081339712919, 0.690625, 0.5989159891598916)"
      ]
     },
     "execution_count": 33,
     "metadata": {},
     "output_type": "execute_result"
    }
   ],
   "source": [
    "# SVC rbf Classifier\n",
    "clf_report_metrics(model=support_clf_rbf,x_test=x_test_onehot,y_test=y_test_onehot['state'])"
   ]
  },
  {
   "cell_type": "code",
   "execution_count": 34,
   "id": "7b7e2d64",
   "metadata": {},
   "outputs": [
    {
     "name": "stdout",
     "output_type": "stream",
     "text": [
      "METRICS:\n",
      "\n",
      "Recall: 0.493\n",
      "Precision: 0.687\n",
      "F1 Score: 0.574\n",
      "__________________________________________________________________________\n",
      "\n",
      "Confusion Matrix: \n",
      " \n"
     ]
    },
    {
     "data": {
      "image/png": "[encoded data removed]",
      "text/plain": [
       "<Figure size 576x288 with 2 Axes>"
      ]
     },
     "metadata": {
      "needs_background": "light"
     },
     "output_type": "display_data"
    },
    {
     "data": {
      "text/plain": [
       "(0.49282296650717705, 0.6866666666666666, 0.5738161559888578)"
      ]
     },
     "execution_count": 34,
     "metadata": {},
     "output_type": "execute_result"
    }
   ],
   "source": [
    "clf_report_metrics(model=xgb_clf,x_test=x_test_onehot,y_test=y_test_onehot['state'])"
   ]
  },
  {
   "cell_type": "markdown",
   "id": "8b83cd65",
   "metadata": {},
   "source": [
    "From our results, it seems that the variables being added has little effect on improving our model. In fact, for both cases, the precision of our model drop, albeit slightly. However, it is interesting to see that our SVC recall score improves slighlty by adding these variables, while the xgboost classifier recall score actually decreases. Observation for this may be a coincidence. We will do <b>Stratified K fold cross validation</b> to see whether our results sustain for these 2 models.\n",
    "\n",
    "We noticed that our data is very imbalance. Stratified K-fold cross-validation is a type of cross-validation that is especially useful when dealing with imbalanced datasets, where one class may be significantly underrepresented in the data.\n",
    "\n",
    "Stratified K-fold cross-validation ensures that each fold has a representative sample of each class, which can help to reduce bias in the evaluation of the model's performance. By stratifying the folds, the algorithm ensures that the same class imbalance that may be present in the original dataset is also present in each fold.\n",
    "\n",
    "References:\n",
    "1) https://www.analyticsvidhya.com/blog/2021/05/4-ways-to-evaluate-your-machine-learning-model-cross-validation-techniques-with-python-code/"
   ]
  },
  {
   "cell_type": "code",
   "execution_count": 35,
   "id": "917e7d3d",
   "metadata": {
    "scrolled": false
   },
   "outputs": [
    {
     "name": "stdout",
     "output_type": "stream",
     "text": [
      "METRICS:\n",
      "\n",
      "Recall: 0.531\n",
      "Precision: 0.709\n",
      "F1 Score: 0.607\n",
      "__________________________________________________________________________\n",
      "\n",
      "Confusion Matrix: \n",
      " \n"
     ]
    },
    {
     "data": {
      "image/png": "[encoded data removed]",
      "text/plain": [
       "<Figure size 576x288 with 2 Axes>"
      ]
     },
     "metadata": {
      "needs_background": "light"
     },
     "output_type": "display_data"
    },
    {
     "name": "stdout",
     "output_type": "stream",
     "text": [
      "METRICS:\n",
      "\n",
      "Recall: 0.540\n",
      "Precision: 0.750\n",
      "F1 Score: 0.628\n",
      "__________________________________________________________________________\n",
      "\n",
      "Confusion Matrix: \n",
      " \n"
     ]
    },
    {
     "data": {
      "image/png": "[encoded data removed]",
      "text/plain": [
       "<Figure size 576x288 with 2 Axes>"
      ]
     },
     "metadata": {
      "needs_background": "light"
     },
     "output_type": "display_data"
    },
    {
     "name": "stdout",
     "output_type": "stream",
     "text": [
      "METRICS:\n",
      "\n",
      "Recall: 0.538\n",
      "Precision: 0.730\n",
      "F1 Score: 0.619\n",
      "__________________________________________________________________________\n",
      "\n",
      "Confusion Matrix: \n",
      " \n"
     ]
    },
    {
     "data": {
      "image/png": "[encoded data removed]",
      "text/plain": [
       "<Figure size 576x288 with 2 Axes>"
      ]
     },
     "metadata": {
      "needs_background": "light"
     },
     "output_type": "display_data"
    },
    {
     "name": "stdout",
     "output_type": "stream",
     "text": [
      "METRICS:\n",
      "\n",
      "Recall: 0.504\n",
      "Precision: 0.714\n",
      "F1 Score: 0.591\n",
      "__________________________________________________________________________\n",
      "\n",
      "Confusion Matrix: \n",
      " \n"
     ]
    },
    {
     "data": {
      "image/png": "[encoded data removed]",
      "text/plain": [
       "<Figure size 576x288 with 2 Axes>"
      ]
     },
     "metadata": {
      "needs_background": "light"
     },
     "output_type": "display_data"
    },
    {
     "name": "stdout",
     "output_type": "stream",
     "text": [
      "METRICS:\n",
      "\n",
      "Recall: 0.504\n",
      "Precision: 0.702\n",
      "F1 Score: 0.586\n",
      "__________________________________________________________________________\n",
      "\n",
      "Confusion Matrix: \n",
      " \n"
     ]
    },
    {
     "data": {
      "image/png": "[encoded data removed]",
      "text/plain": [
       "<Figure size 576x288 with 2 Axes>"
      ]
     },
     "metadata": {
      "needs_background": "light"
     },
     "output_type": "display_data"
    },
    {
     "name": "stdout",
     "output_type": "stream",
     "text": [
      "The mean precision is: 0.7209111530485528\n",
      "The mean f1 score is: 0.6062984600945481\n"
     ]
    }
   ],
   "source": [
    "from sklearn.model_selection import StratifiedKFold\n",
    "from statistics import mean\n",
    "\n",
    "# SVC\n",
    "kfold = StratifiedKFold(n_splits=5,random_state=42,shuffle=True)\n",
    "splits = kfold.split(df_x_onehot,df_y)\n",
    "cv_precision =[]\n",
    "cv_f1 = []\n",
    "\n",
    "for train_index,test_index in kfold.split(df_x_onehot,df_y['state']):\n",
    "    x_train,x_test = df_x_onehot.loc[train_index], df_x_onehot.loc[test_index]\n",
    "    y_train,y_test = df_y['state'].loc[train_index],df_y['state'].loc[test_index]\n",
    "    \n",
    "    support_clf_rbf = SVC(kernel='rbf')\n",
    "    support_clf_rbf.fit(x_train,y_train)\n",
    "    _, precision, f1 = clf_report_metrics(model = support_clf_rbf,x_test = x_test,y_test=y_test)\n",
    "    cv_precision.append(precision)\n",
    "    cv_f1.append(f1)\n",
    "    \n",
    "print(\"The mean precision is:\", mean(cv_precision))\n",
    "print(\"The mean f1 score is:\", mean(cv_f1))"
   ]
  },
  {
   "cell_type": "code",
   "execution_count": 36,
   "id": "0f5c0782",
   "metadata": {
    "scrolled": false
   },
   "outputs": [
    {
     "name": "stdout",
     "output_type": "stream",
     "text": [
      "METRICS:\n",
      "\n",
      "Recall: 0.469\n",
      "Precision: 0.702\n",
      "F1 Score: 0.562\n",
      "__________________________________________________________________________\n",
      "\n",
      "Confusion Matrix: \n",
      " \n"
     ]
    },
    {
     "data": {
      "image/png": "[encoded data removed]",
      "text/plain": [
       "<Figure size 576x288 with 2 Axes>"
      ]
     },
     "metadata": {
      "needs_background": "light"
     },
     "output_type": "display_data"
    },
    {
     "name": "stdout",
     "output_type": "stream",
     "text": [
      "METRICS:\n",
      "\n",
      "Recall: 0.502\n",
      "Precision: 0.754\n",
      "F1 Score: 0.603\n",
      "__________________________________________________________________________\n",
      "\n",
      "Confusion Matrix: \n",
      " \n"
     ]
    },
    {
     "data": {
      "image/png": "[encoded data removed]",
      "text/plain": [
       "<Figure size 576x288 with 2 Axes>"
      ]
     },
     "metadata": {
      "needs_background": "light"
     },
     "output_type": "display_data"
    },
    {
     "name": "stdout",
     "output_type": "stream",
     "text": [
      "METRICS:\n",
      "\n",
      "Recall: 0.488\n",
      "Precision: 0.715\n",
      "F1 Score: 0.580\n",
      "__________________________________________________________________________\n",
      "\n",
      "Confusion Matrix: \n",
      " \n"
     ]
    },
    {
     "data": {
      "image/png": "[encoded data removed]",
      "text/plain": [
       "<Figure size 576x288 with 2 Axes>"
      ]
     },
     "metadata": {
      "needs_background": "light"
     },
     "output_type": "display_data"
    },
    {
     "name": "stdout",
     "output_type": "stream",
     "text": [
      "METRICS:\n",
      "\n",
      "Recall: 0.468\n",
      "Precision: 0.711\n",
      "F1 Score: 0.564\n",
      "__________________________________________________________________________\n",
      "\n",
      "Confusion Matrix: \n",
      " \n"
     ]
    },
    {
     "data": {
      "image/png": "[encoded data removed]",
      "text/plain": [
       "<Figure size 576x288 with 2 Axes>"
      ]
     },
     "metadata": {
      "needs_background": "light"
     },
     "output_type": "display_data"
    },
    {
     "name": "stdout",
     "output_type": "stream",
     "text": [
      "METRICS:\n",
      "\n",
      "Recall: 0.473\n",
      "Precision: 0.716\n",
      "F1 Score: 0.569\n",
      "__________________________________________________________________________\n",
      "\n",
      "Confusion Matrix: \n",
      " \n"
     ]
    },
    {
     "data": {
      "image/png": "[encoded data removed]",
      "text/plain": [
       "<Figure size 576x288 with 2 Axes>"
      ]
     },
     "metadata": {
      "needs_background": "light"
     },
     "output_type": "display_data"
    },
    {
     "name": "stdout",
     "output_type": "stream",
     "text": [
      "The mean precision is: 0.7197745019596654\n",
      "The mean f1 score is: 0.5759531769789848\n"
     ]
    }
   ],
   "source": [
    "# XGB Classifier\n",
    "kfold = StratifiedKFold(n_splits=5,random_state=42,shuffle=True)\n",
    "splits = kfold.split(df_x_onehot,df_y)\n",
    "cv_precision =[]\n",
    "cv_f1 = []\n",
    "\n",
    "for train_index,test_index in kfold.split(df_x_onehot,df_y['state']):\n",
    "    x_train,x_test = df_x_onehot.loc[train_index], df_x_onehot.loc[test_index]\n",
    "    y_train,y_test = df_y['state'].loc[train_index],df_y['state'].loc[test_index]\n",
    "    \n",
    "    xgb_clf = XGBClassifier()\n",
    "    xgb_clf.fit(x_train,y_train)\n",
    "    _, precision, f1 = clf_report_metrics(model = xgb_clf,x_test = x_test,y_test=y_test)\n",
    "    cv_precision.append(precision)\n",
    "    cv_f1.append(f1)\n",
    "    \n",
    "print(\"The mean precision is:\", mean(cv_precision))\n",
    "print(\"The mean f1 score is:\", mean(cv_f1))    \n",
    "    "
   ]
  },
  {
   "cell_type": "markdown",
   "id": "47afacae",
   "metadata": {},
   "source": [
    "From our results, we see that the performance of our model improves compared to the previous. One possible explanation for it is that we uses Stratified sampling in our splitting of data. Since our data is very skewed towards the negative samples, the previous random sampling way of splitting may have a subset of a more concentrated amount of data, leading to lower evaluation of our performance. Stratified sampling, on the other hand ensure that we have equal distribution of the imbalance between positve and negative sample of the data. Hence, may be more reliable in explaining our model performance and preventing possible underfitting/overfitting due to the imbalanceness of the datasets\n"
   ]
  },
  {
   "cell_type": "code",
   "execution_count": 37,
   "id": "04c71c97",
   "metadata": {
    "scrolled": false
   },
   "outputs": [
    {
     "name": "stdout",
     "output_type": "stream",
     "text": [
      "METRICS:\n",
      "\n",
      "Recall: 0.512\n",
      "Precision: 0.704\n",
      "F1 Score: 0.593\n",
      "__________________________________________________________________________\n",
      "\n",
      "Confusion Matrix: \n",
      " \n"
     ]
    },
    {
     "data": {
      "image/png": "[encoded data removed]",
      "text/plain": [
       "<Figure size 576x288 with 2 Axes>"
      ]
     },
     "metadata": {
      "needs_background": "light"
     },
     "output_type": "display_data"
    },
    {
     "name": "stdout",
     "output_type": "stream",
     "text": [
      "METRICS:\n",
      "\n",
      "Recall: 0.540\n",
      "Precision: 0.750\n",
      "F1 Score: 0.628\n",
      "__________________________________________________________________________\n",
      "\n",
      "Confusion Matrix: \n",
      " \n"
     ]
    },
    {
     "data": {
      "image/png": "[encoded data removed]",
      "text/plain": [
       "<Figure size 576x288 with 2 Axes>"
      ]
     },
     "metadata": {
      "needs_background": "light"
     },
     "output_type": "display_data"
    },
    {
     "name": "stdout",
     "output_type": "stream",
     "text": [
      "METRICS:\n",
      "\n",
      "Recall: 0.538\n",
      "Precision: 0.730\n",
      "F1 Score: 0.619\n",
      "__________________________________________________________________________\n",
      "\n",
      "Confusion Matrix: \n",
      " \n"
     ]
    },
    {
     "data": {
      "image/png": "[encoded data removed]",
      "text/plain": [
       "<Figure size 576x288 with 2 Axes>"
      ]
     },
     "metadata": {
      "needs_background": "light"
     },
     "output_type": "display_data"
    },
    {
     "name": "stdout",
     "output_type": "stream",
     "text": [
      "METRICS:\n",
      "\n",
      "Recall: 0.496\n",
      "Precision: 0.716\n",
      "F1 Score: 0.586\n",
      "__________________________________________________________________________\n",
      "\n",
      "Confusion Matrix: \n",
      " \n"
     ]
    },
    {
     "data": {
      "image/png": "[encoded data removed]",
      "text/plain": [
       "<Figure size 576x288 with 2 Axes>"
      ]
     },
     "metadata": {
      "needs_background": "light"
     },
     "output_type": "display_data"
    },
    {
     "name": "stdout",
     "output_type": "stream",
     "text": [
      "METRICS:\n",
      "\n",
      "Recall: 0.504\n",
      "Precision: 0.700\n",
      "F1 Score: 0.586\n",
      "__________________________________________________________________________\n",
      "\n",
      "Confusion Matrix: \n",
      " \n"
     ]
    },
    {
     "data": {
      "image/png": "[encoded data removed]",
      "text/plain": [
       "<Figure size 576x288 with 2 Axes>"
      ]
     },
     "metadata": {
      "needs_background": "light"
     },
     "output_type": "display_data"
    },
    {
     "name": "stdout",
     "output_type": "stream",
     "text": [
      "The mean precision is: 0.7197819981041953\n",
      "The mean f1 score is: 0.6023909653496948\n"
     ]
    }
   ],
   "source": [
    "# SVC No Text\n",
    "\n",
    "kfold = StratifiedKFold(n_splits=5,random_state=42,shuffle=True)\n",
    "splits = kfold.split(df_x_onehot,df_y)\n",
    "cv_precision =[]\n",
    "cv_f1 = []\n",
    "\n",
    "df_x_onehot_noText = df_x_onehot.drop(['compound_tag_vader','pos_tag_disBert','compound_ti_vader','pos_ti_disBert'],axis=1)\n",
    "for train_index,test_index in kfold.split(df_x_onehot_noText,df_y['state']):\n",
    "    x_train,x_test = df_x_onehot_noText.loc[train_index], df_x_onehot_noText.loc[test_index]\n",
    "    y_train,y_test = df_y['state'].loc[train_index],df_y['state'].loc[test_index]\n",
    "    \n",
    "    support_clf_rbf = SVC(kernel='rbf')\n",
    "    support_clf_rbf.fit(x_train,y_train)\n",
    "    _, precision, f1 = clf_report_metrics(model = support_clf_rbf,x_test = x_test,y_test=y_test)\n",
    "    cv_precision.append(precision)\n",
    "    cv_f1.append(f1)\n",
    "    \n",
    "print(\"The mean precision is:\", mean(cv_precision))\n",
    "print(\"The mean f1 score is:\", mean(cv_f1))    \n",
    "\n"
   ]
  },
  {
   "cell_type": "code",
   "execution_count": 38,
   "id": "d65dce4b",
   "metadata": {
    "scrolled": false
   },
   "outputs": [
    {
     "name": "stdout",
     "output_type": "stream",
     "text": [
      "METRICS:\n",
      "\n",
      "Recall: 0.488\n",
      "Precision: 0.730\n",
      "F1 Score: 0.585\n",
      "__________________________________________________________________________\n",
      "\n",
      "Confusion Matrix: \n",
      " \n"
     ]
    },
    {
     "data": {
      "image/png": "[encoded data removed]",
      "text/plain": [
       "<Figure size 576x288 with 2 Axes>"
      ]
     },
     "metadata": {
      "needs_background": "light"
     },
     "output_type": "display_data"
    },
    {
     "name": "stdout",
     "output_type": "stream",
     "text": [
      "METRICS:\n",
      "\n",
      "Recall: 0.524\n",
      "Precision: 0.765\n",
      "F1 Score: 0.622\n",
      "__________________________________________________________________________\n",
      "\n",
      "Confusion Matrix: \n",
      " \n"
     ]
    },
    {
     "data": {
      "image/png": "[encoded data removed]",
      "text/plain": [
       "<Figure size 576x288 with 2 Axes>"
      ]
     },
     "metadata": {
      "needs_background": "light"
     },
     "output_type": "display_data"
    },
    {
     "name": "stdout",
     "output_type": "stream",
     "text": [
      "METRICS:\n",
      "\n",
      "Recall: 0.521\n",
      "Precision: 0.748\n",
      "F1 Score: 0.615\n",
      "__________________________________________________________________________\n",
      "\n",
      "Confusion Matrix: \n",
      " \n"
     ]
    },
    {
     "data": {
      "image/png": "[encoded data removed]",
      "text/plain": [
       "<Figure size 576x288 with 2 Axes>"
      ]
     },
     "metadata": {
      "needs_background": "light"
     },
     "output_type": "display_data"
    },
    {
     "name": "stdout",
     "output_type": "stream",
     "text": [
      "METRICS:\n",
      "\n",
      "Recall: 0.475\n",
      "Precision: 0.719\n",
      "F1 Score: 0.572\n",
      "__________________________________________________________________________\n",
      "\n",
      "Confusion Matrix: \n",
      " \n"
     ]
    },
    {
     "data": {
      "image/png": "[encoded data removed]",
      "text/plain": [
       "<Figure size 576x288 with 2 Axes>"
      ]
     },
     "metadata": {
      "needs_background": "light"
     },
     "output_type": "display_data"
    },
    {
     "name": "stdout",
     "output_type": "stream",
     "text": [
      "METRICS:\n",
      "\n",
      "Recall: 0.480\n",
      "Precision: 0.704\n",
      "F1 Score: 0.571\n",
      "__________________________________________________________________________\n",
      "\n",
      "Confusion Matrix: \n",
      " \n"
     ]
    },
    {
     "data": {
      "image/png": "[encoded data removed]",
      "text/plain": [
       "<Figure size 576x288 with 2 Axes>"
      ]
     },
     "metadata": {
      "needs_background": "light"
     },
     "output_type": "display_data"
    },
    {
     "name": "stdout",
     "output_type": "stream",
     "text": [
      "The mean precision is: 0.7265668859547414\n",
      "The mean f1 score is: 0.5976234408193264\n"
     ]
    }
   ],
   "source": [
    "# XGB Classifier No Text\n",
    "\n",
    "\n",
    "for train_index,test_index in kfold.split(df_x_onehot_noText,df_y['state']):\n",
    "    x_train,x_test = df_x_onehot_noText.loc[train_index], df_x_onehot_noText.loc[test_index]\n",
    "    y_train,y_test = df_y['state'].loc[train_index],df_y['state'].loc[test_index]\n",
    "    \n",
    "    xgb_clf = XGBClassifier()\n",
    "    xgb_clf.fit(x_train,y_train)\n",
    "    _, precision, f1 = clf_report_metrics(model = xgb_clf,x_test = x_test,y_test=y_test)\n",
    "    cv_precision.append(precision)\n",
    "    cv_f1.append(f1)\n",
    "    \n",
    "print(\"The mean precision is:\", mean(cv_precision))\n",
    "print(\"The mean f1 score is:\", mean(cv_f1))    \n"
   ]
  },
  {
   "cell_type": "markdown",
   "id": "537154bf",
   "metadata": {},
   "source": [
    "From the results, it seem that there is a slight discrepancy between XGB Classifier and SVC Classifier in whether the sentiment score helps to increase the performance of the prediction. For SVC, it actually increases very slightly with the sentiment score data, while for XGBoost, the sentiment score data actually hinders the performance in the prediction.\n",
    "\n",
    "We are still unable to conclude whether to include or exclude these variables, so in order to do so, perhaps we should optimize both our models first to see if there will be significant discrepancy between the performance after hyperparameter tuning."
   ]
  },
  {
   "cell_type": "markdown",
   "id": "acde7ae3",
   "metadata": {},
   "source": [
    "# Hyperparameter Tuning\n",
    "\n",
    "Hyperparameter tuning is the process of finding the best values for the parameters of a machine learning model that cannot be learned directly from training data. It involves trying different combinations of values for these parameters to find the combination that results in the best performance on a validation set \n",
    "\n",
    "References: \n",
    "1) https://grabngoinfo.com/hyperparameter-tuning-for-xgboost-grid-search-vs-random-search-vs-bayesian-optimization/\n",
    "\n",
    "2) https://www.vebuso.com/2020/03/svm-hyperparameter-tuning-using-gridsearchcv/"
   ]
  },
  {
   "cell_type": "markdown",
   "id": "8a763628",
   "metadata": {},
   "source": [
    "#### Hyperparameter Tuning XGB Classifier with hyperopt (bayesian-optimization)"
   ]
  },
  {
   "cell_type": "code",
   "execution_count": 39,
   "id": "9eb593a3",
   "metadata": {},
   "outputs": [],
   "source": [
    "x_train_noText, x_test_noText, y_train_noText, y_test_noText = train_test_split(df_x_onehot_noText, df_y['state'],\n",
    "                                                                             test_size=0.2, stratify=df_y['state'],\n",
    "                                                                             random_state=42)"
   ]
  },
  {
   "cell_type": "code",
   "execution_count": 74,
   "id": "c0b15fa5",
   "metadata": {},
   "outputs": [],
   "source": [
    "from hyperopt import STATUS_OK, Trials, fmin, hp, tpe, space_eval\n",
    "\n",
    "space={\n",
    "    'learning_rate': hp.choice('learning_rate',[0.0001,0.001,0.01,0.1,1]),\n",
    "    'max_depth': hp.choice('max_depth',range(3,21,3)),\n",
    "    'gamma': hp.choice('gamma',[i/10.0 for i in range(0,5)]),\n",
    "    'colsample_bytree': hp.choice('colsample_bytree',[i/10.0 for i in range(3,10)]),\n",
    "    'reg_alpha': hp.choice('reg_alpha',[1e-5,1e-2,0.1,1,10,100]),\n",
    "    'reg_lambda': hp.choice('reg_lambda',[1e-5,1e-2,0.1,1,10,100])\n",
    "      }"
   ]
  },
  {
   "cell_type": "code",
   "execution_count": 66,
   "id": "f32aac2f",
   "metadata": {},
   "outputs": [],
   "source": [
    "kfold = StratifiedKFold(n_splits=5,shuffle=True,random_state=42)"
   ]
  },
  {
   "cell_type": "code",
   "execution_count": 70,
   "id": "9a494247",
   "metadata": {},
   "outputs": [],
   "source": [
    "from sklearn.model_selection import cross_val_score\n",
    "def objective(params):\n",
    "    xgb_clf = XGBClassifier(seed=0,**params)\n",
    "    score = cross_val_score(estimator=xgb_clf,\n",
    "                            X = x_train_noText,\n",
    "                            y= y_train_noText,\n",
    "                            cv = kfold,\n",
    "                            scoring = 'precision'\n",
    "                           ).mean()\n",
    "    loss = -score\n",
    "    return {'loss': loss, 'params':params,'status':STATUS_OK}"
   ]
  },
  {
   "cell_type": "code",
   "execution_count": 71,
   "id": "020fb5c2",
   "metadata": {},
   "outputs": [
    {
     "name": "stdout",
     "output_type": "stream",
     "text": [
      "100%|███████████████████████████████████████████████| 48/48 [02:45<00:00,  3.45s/trial, best loss: -0.7876245210727969]\n"
     ]
    }
   ],
   "source": [
    "best = fmin(fn=objective,space=space,algo=tpe.suggest,max_evals=48,trials=Trials())"
   ]
  },
  {
   "cell_type": "code",
   "execution_count": 76,
   "id": "d50231f6",
   "metadata": {},
   "outputs": [
    {
     "name": "stdout",
     "output_type": "stream",
     "text": [
      "{'colsample_bytree': 2, 'gamma': 1, 'learning_rate': 0, 'max_depth': 3, 'reg_alpha': 0, 'reg_lambda': 0}\n",
      "{'colsample_bytree': 0.5, 'gamma': 0.1, 'learning_rate': 0.0001, 'max_depth': 12, 'reg_alpha': 1e-05, 'reg_lambda': 1e-05}\n"
     ]
    }
   ],
   "source": [
    "print(best)\n",
    "print(space_eval(space,best))"
   ]
  },
  {
   "cell_type": "code",
   "execution_count": 87,
   "id": "839e5a40",
   "metadata": {},
   "outputs": [
    {
     "name": "stdout",
     "output_type": "stream",
     "text": [
      "METRICS:\n",
      "\n",
      "Recall: 0.149\n",
      "Precision: 0.829\n",
      "F1 Score: 0.253\n",
      "__________________________________________________________________________\n",
      "\n",
      "Confusion Matrix: \n",
      " \n"
     ]
    },
    {
     "data": {
      "image/png": "[encoded data removed]",
      "text/plain": [
       "<Figure size 576x288 with 2 Axes>"
      ]
     },
     "metadata": {
      "needs_background": "light"
     },
     "output_type": "display_data"
    },
    {
     "data": {
      "text/plain": [
       "(0.14928909952606634, 0.8289473684210527, 0.25301204819277107)"
      ]
     },
     "execution_count": 87,
     "metadata": {},
     "output_type": "execute_result"
    }
   ],
   "source": [
    "xgb_clf = XGBClassifier(seed=0, \n",
    "                       colsample_bytree=space_eval(space, best)['colsample_bytree'], \n",
    "                       gamma=space_eval(space, best)['gamma'], \n",
    "                       learning_rate=space_eval(space, best)['learning_rate'], \n",
    "                       max_depth=space_eval(space, best)['max_depth'], \n",
    "                       reg_alpha=space_eval(space, best)['reg_alpha'],\n",
    "                       reg_lambda=space_eval(space, best)['reg_lambda'])\n",
    "\n",
    "xgb_clf.fit(x_train_noText,y_train_noText)\n",
    "clf_report_metrics(model=xgb_clf,x_test=x_test_noText,y_test=y_test_noText)\n"
   ]
  },
  {
   "cell_type": "markdown",
   "id": "312483f1",
   "metadata": {},
   "source": [
    "#### Hyperparameter Tuning SVC with GridSearchCV"
   ]
  },
  {
   "cell_type": "code",
   "execution_count": 78,
   "id": "a71c1a05",
   "metadata": {},
   "outputs": [],
   "source": [
    "from sklearn.model_selection import GridSearchCV"
   ]
  },
  {
   "cell_type": "code",
   "execution_count": 79,
   "id": "6dd01ac9",
   "metadata": {},
   "outputs": [],
   "source": [
    "param_grid = {'C': [0.1,1, 10, 100], 'gamma': [1,0.1,0.01,0.001],'kernel': ['rbf', 'poly', 'linear']}"
   ]
  },
  {
   "cell_type": "code",
   "execution_count": 80,
   "id": "95ddc3ab",
   "metadata": {},
   "outputs": [],
   "source": [
    "x_train_Text, x_test_Text, y_train_Text, y_test_Text = train_test_split(df_x_onehot, df_y['state'],\n",
    "                                                                             test_size=0.2, stratify=df_y['state'],\n",
    "                                                                             random_state=42)"
   ]
  },
  {
   "cell_type": "code",
   "execution_count": 83,
   "id": "ab7e244d",
   "metadata": {
    "scrolled": false
   },
   "outputs": [
    {
     "name": "stdout",
     "output_type": "stream",
     "text": [
      "Fitting 5 folds for each of 48 candidates, totalling 240 fits\n",
      "[CV] END .........................C=0.1, gamma=1, kernel=rbf; total time=  25.7s\n",
      "[CV] END .........................C=0.1, gamma=1, kernel=rbf; total time=  26.1s\n",
      "[CV] END .........................C=0.1, gamma=1, kernel=rbf; total time=  25.3s\n",
      "[CV] END .........................C=0.1, gamma=1, kernel=rbf; total time=  26.6s\n",
      "[CV] END .........................C=0.1, gamma=1, kernel=rbf; total time=  34.7s\n",
      "[CV] END ........................C=0.1, gamma=1, kernel=poly; total time=   5.1s\n",
      "[CV] END ........................C=0.1, gamma=1, kernel=poly; total time=   5.0s\n",
      "[CV] END ........................C=0.1, gamma=1, kernel=poly; total time=   4.7s\n",
      "[CV] END ........................C=0.1, gamma=1, kernel=poly; total time=   5.1s\n",
      "[CV] END ........................C=0.1, gamma=1, kernel=poly; total time=   5.0s\n",
      "[CV] END ......................C=0.1, gamma=1, kernel=linear; total time=   2.3s\n",
      "[CV] END ......................C=0.1, gamma=1, kernel=linear; total time=   2.1s\n",
      "[CV] END ......................C=0.1, gamma=1, kernel=linear; total time=   2.2s\n",
      "[CV] END ......................C=0.1, gamma=1, kernel=linear; total time=   2.3s\n",
      "[CV] END ......................C=0.1, gamma=1, kernel=linear; total time=   2.2s\n",
      "[CV] END .......................C=0.1, gamma=0.1, kernel=rbf; total time=   6.4s\n",
      "[CV] END .......................C=0.1, gamma=0.1, kernel=rbf; total time=   6.4s\n",
      "[CV] END .......................C=0.1, gamma=0.1, kernel=rbf; total time=   6.2s\n",
      "[CV] END .......................C=0.1, gamma=0.1, kernel=rbf; total time=   6.5s\n",
      "[CV] END .......................C=0.1, gamma=0.1, kernel=rbf; total time=   6.5s\n",
      "[CV] END ......................C=0.1, gamma=0.1, kernel=poly; total time=   4.3s\n",
      "[CV] END ......................C=0.1, gamma=0.1, kernel=poly; total time=   4.8s\n",
      "[CV] END ......................C=0.1, gamma=0.1, kernel=poly; total time=   4.7s\n",
      "[CV] END ......................C=0.1, gamma=0.1, kernel=poly; total time=   4.2s\n",
      "[CV] END ......................C=0.1, gamma=0.1, kernel=poly; total time=   4.9s\n",
      "[CV] END ....................C=0.1, gamma=0.1, kernel=linear; total time=   2.3s\n",
      "[CV] END ....................C=0.1, gamma=0.1, kernel=linear; total time=   2.1s\n",
      "[CV] END ....................C=0.1, gamma=0.1, kernel=linear; total time=   2.2s\n",
      "[CV] END ....................C=0.1, gamma=0.1, kernel=linear; total time=   2.5s\n",
      "[CV] END ....................C=0.1, gamma=0.1, kernel=linear; total time=   2.5s\n",
      "[CV] END ......................C=0.1, gamma=0.01, kernel=rbf; total time=   5.9s\n",
      "[CV] END ......................C=0.1, gamma=0.01, kernel=rbf; total time=   5.7s\n",
      "[CV] END ......................C=0.1, gamma=0.01, kernel=rbf; total time=   5.7s\n",
      "[CV] END ......................C=0.1, gamma=0.01, kernel=rbf; total time=   5.6s\n",
      "[CV] END ......................C=0.1, gamma=0.01, kernel=rbf; total time=   5.8s\n",
      "[CV] END .....................C=0.1, gamma=0.01, kernel=poly; total time=   3.0s\n",
      "[CV] END .....................C=0.1, gamma=0.01, kernel=poly; total time=   2.9s\n",
      "[CV] END .....................C=0.1, gamma=0.01, kernel=poly; total time=   2.9s\n",
      "[CV] END .....................C=0.1, gamma=0.01, kernel=poly; total time=   3.0s\n",
      "[CV] END .....................C=0.1, gamma=0.01, kernel=poly; total time=   3.0s\n",
      "[CV] END ...................C=0.1, gamma=0.01, kernel=linear; total time=   2.3s\n",
      "[CV] END ...................C=0.1, gamma=0.01, kernel=linear; total time=   2.2s\n",
      "[CV] END ...................C=0.1, gamma=0.01, kernel=linear; total time=   2.2s\n",
      "[CV] END ...................C=0.1, gamma=0.01, kernel=linear; total time=   2.2s\n",
      "[CV] END ...................C=0.1, gamma=0.01, kernel=linear; total time=   2.1s\n",
      "[CV] END .....................C=0.1, gamma=0.001, kernel=rbf; total time=   3.6s\n",
      "[CV] END .....................C=0.1, gamma=0.001, kernel=rbf; total time=   3.6s\n",
      "[CV] END .....................C=0.1, gamma=0.001, kernel=rbf; total time=   3.6s\n",
      "[CV] END .....................C=0.1, gamma=0.001, kernel=rbf; total time=   3.6s\n",
      "[CV] END .....................C=0.1, gamma=0.001, kernel=rbf; total time=   3.7s\n",
      "[CV] END ....................C=0.1, gamma=0.001, kernel=poly; total time=   2.8s\n",
      "[CV] END ....................C=0.1, gamma=0.001, kernel=poly; total time=   2.8s\n",
      "[CV] END ....................C=0.1, gamma=0.001, kernel=poly; total time=   2.8s\n",
      "[CV] END ....................C=0.1, gamma=0.001, kernel=poly; total time=   2.8s\n",
      "[CV] END ....................C=0.1, gamma=0.001, kernel=poly; total time=   2.9s\n",
      "[CV] END ..................C=0.1, gamma=0.001, kernel=linear; total time=   2.2s\n",
      "[CV] END ..................C=0.1, gamma=0.001, kernel=linear; total time=   2.1s\n",
      "[CV] END ..................C=0.1, gamma=0.001, kernel=linear; total time=   2.2s\n",
      "[CV] END ..................C=0.1, gamma=0.001, kernel=linear; total time=   2.2s\n",
      "[CV] END ..................C=0.1, gamma=0.001, kernel=linear; total time=   2.2s\n",
      "[CV] END ...........................C=1, gamma=1, kernel=rbf; total time=  29.3s\n",
      "[CV] END ...........................C=1, gamma=1, kernel=rbf; total time=  28.5s\n",
      "[CV] END ...........................C=1, gamma=1, kernel=rbf; total time=  27.0s\n",
      "[CV] END ...........................C=1, gamma=1, kernel=rbf; total time=  28.5s\n",
      "[CV] END ...........................C=1, gamma=1, kernel=rbf; total time=  38.4s\n",
      "[CV] END ..........................C=1, gamma=1, kernel=poly; total time=   6.0s\n",
      "[CV] END ..........................C=1, gamma=1, kernel=poly; total time=   6.0s\n",
      "[CV] END ..........................C=1, gamma=1, kernel=poly; total time=   5.6s\n",
      "[CV] END ..........................C=1, gamma=1, kernel=poly; total time=   6.1s\n",
      "[CV] END ..........................C=1, gamma=1, kernel=poly; total time=   5.8s\n",
      "[CV] END ........................C=1, gamma=1, kernel=linear; total time=   2.6s\n",
      "[CV] END ........................C=1, gamma=1, kernel=linear; total time=   2.5s\n",
      "[CV] END ........................C=1, gamma=1, kernel=linear; total time=   2.6s\n",
      "[CV] END ........................C=1, gamma=1, kernel=linear; total time=   2.6s\n",
      "[CV] END ........................C=1, gamma=1, kernel=linear; total time=   2.5s\n",
      "[CV] END .........................C=1, gamma=0.1, kernel=rbf; total time=   5.2s\n",
      "[CV] END .........................C=1, gamma=0.1, kernel=rbf; total time=   5.2s\n",
      "[CV] END .........................C=1, gamma=0.1, kernel=rbf; total time=   4.9s\n",
      "[CV] END .........................C=1, gamma=0.1, kernel=rbf; total time=   5.2s\n",
      "[CV] END .........................C=1, gamma=0.1, kernel=rbf; total time=   5.3s\n",
      "[CV] END ........................C=1, gamma=0.1, kernel=poly; total time=   4.5s\n",
      "[CV] END ........................C=1, gamma=0.1, kernel=poly; total time=   4.4s\n",
      "[CV] END ........................C=1, gamma=0.1, kernel=poly; total time=   4.2s\n",
      "[CV] END ........................C=1, gamma=0.1, kernel=poly; total time=   4.5s\n",
      "[CV] END ........................C=1, gamma=0.1, kernel=poly; total time=   4.4s\n",
      "[CV] END ......................C=1, gamma=0.1, kernel=linear; total time=   2.6s\n",
      "[CV] END ......................C=1, gamma=0.1, kernel=linear; total time=   2.5s\n",
      "[CV] END ......................C=1, gamma=0.1, kernel=linear; total time=   2.6s\n",
      "[CV] END ......................C=1, gamma=0.1, kernel=linear; total time=   2.6s\n",
      "[CV] END ......................C=1, gamma=0.1, kernel=linear; total time=   2.5s\n",
      "[CV] END ........................C=1, gamma=0.01, kernel=rbf; total time=   4.9s\n",
      "[CV] END ........................C=1, gamma=0.01, kernel=rbf; total time=   4.8s\n",
      "[CV] END ........................C=1, gamma=0.01, kernel=rbf; total time=   4.7s\n",
      "[CV] END ........................C=1, gamma=0.01, kernel=rbf; total time=   4.9s\n",
      "[CV] END ........................C=1, gamma=0.01, kernel=rbf; total time=   4.8s\n",
      "[CV] END .......................C=1, gamma=0.01, kernel=poly; total time=   2.9s\n",
      "[CV] END .......................C=1, gamma=0.01, kernel=poly; total time=   2.9s\n",
      "[CV] END .......................C=1, gamma=0.01, kernel=poly; total time=   2.9s\n",
      "[CV] END .......................C=1, gamma=0.01, kernel=poly; total time=   2.9s\n",
      "[CV] END .......................C=1, gamma=0.01, kernel=poly; total time=   2.9s\n",
      "[CV] END .....................C=1, gamma=0.01, kernel=linear; total time=   2.6s\n"
     ]
    },
    {
     "name": "stdout",
     "output_type": "stream",
     "text": [
      "[CV] END .....................C=1, gamma=0.01, kernel=linear; total time=   2.4s\n",
      "[CV] END .....................C=1, gamma=0.01, kernel=linear; total time=   2.5s\n",
      "[CV] END .....................C=1, gamma=0.01, kernel=linear; total time=   2.6s\n",
      "[CV] END .....................C=1, gamma=0.01, kernel=linear; total time=   2.5s\n",
      "[CV] END .......................C=1, gamma=0.001, kernel=rbf; total time=   3.9s\n",
      "[CV] END .......................C=1, gamma=0.001, kernel=rbf; total time=   3.8s\n",
      "[CV] END .......................C=1, gamma=0.001, kernel=rbf; total time=   3.8s\n",
      "[CV] END .......................C=1, gamma=0.001, kernel=rbf; total time=   3.8s\n",
      "[CV] END .......................C=1, gamma=0.001, kernel=rbf; total time=   3.8s\n",
      "[CV] END ......................C=1, gamma=0.001, kernel=poly; total time=   2.8s\n",
      "[CV] END ......................C=1, gamma=0.001, kernel=poly; total time=   2.9s\n",
      "[CV] END ......................C=1, gamma=0.001, kernel=poly; total time=   2.9s\n",
      "[CV] END ......................C=1, gamma=0.001, kernel=poly; total time=   3.0s\n",
      "[CV] END ......................C=1, gamma=0.001, kernel=poly; total time=   2.9s\n",
      "[CV] END ....................C=1, gamma=0.001, kernel=linear; total time=   2.6s\n",
      "[CV] END ....................C=1, gamma=0.001, kernel=linear; total time=   2.5s\n",
      "[CV] END ....................C=1, gamma=0.001, kernel=linear; total time=   2.7s\n",
      "[CV] END ....................C=1, gamma=0.001, kernel=linear; total time=   2.8s\n",
      "[CV] END ....................C=1, gamma=0.001, kernel=linear; total time=   2.6s\n",
      "[CV] END ..........................C=10, gamma=1, kernel=rbf; total time=  22.7s\n",
      "[CV] END ..........................C=10, gamma=1, kernel=rbf; total time=  22.3s\n",
      "[CV] END ..........................C=10, gamma=1, kernel=rbf; total time=  21.5s\n",
      "[CV] END ..........................C=10, gamma=1, kernel=rbf; total time=  22.3s\n",
      "[CV] END ..........................C=10, gamma=1, kernel=rbf; total time=  22.7s\n",
      "[CV] END .........................C=10, gamma=1, kernel=poly; total time=   8.8s\n",
      "[CV] END .........................C=10, gamma=1, kernel=poly; total time=   8.6s\n",
      "[CV] END .........................C=10, gamma=1, kernel=poly; total time=   8.4s\n",
      "[CV] END .........................C=10, gamma=1, kernel=poly; total time=   8.5s\n",
      "[CV] END .........................C=10, gamma=1, kernel=poly; total time=   8.2s\n",
      "[CV] END .......................C=10, gamma=1, kernel=linear; total time=   5.3s\n",
      "[CV] END .......................C=10, gamma=1, kernel=linear; total time=   4.9s\n",
      "[CV] END .......................C=10, gamma=1, kernel=linear; total time=   7.1s\n",
      "[CV] END .......................C=10, gamma=1, kernel=linear; total time=   5.0s\n",
      "[CV] END .......................C=10, gamma=1, kernel=linear; total time=   5.2s\n",
      "[CV] END ........................C=10, gamma=0.1, kernel=rbf; total time=   5.5s\n",
      "[CV] END ........................C=10, gamma=0.1, kernel=rbf; total time=   5.5s\n",
      "[CV] END ........................C=10, gamma=0.1, kernel=rbf; total time=   5.2s\n",
      "[CV] END ........................C=10, gamma=0.1, kernel=rbf; total time=   5.6s\n",
      "[CV] END ........................C=10, gamma=0.1, kernel=rbf; total time=   5.4s\n",
      "[CV] END .......................C=10, gamma=0.1, kernel=poly; total time=   4.5s\n",
      "[CV] END .......................C=10, gamma=0.1, kernel=poly; total time=   4.4s\n",
      "[CV] END .......................C=10, gamma=0.1, kernel=poly; total time=   4.5s\n",
      "[CV] END .......................C=10, gamma=0.1, kernel=poly; total time=   4.6s\n",
      "[CV] END .......................C=10, gamma=0.1, kernel=poly; total time=   4.5s\n",
      "[CV] END .....................C=10, gamma=0.1, kernel=linear; total time=   5.3s\n",
      "[CV] END .....................C=10, gamma=0.1, kernel=linear; total time=   4.9s\n",
      "[CV] END .....................C=10, gamma=0.1, kernel=linear; total time=   7.3s\n",
      "[CV] END .....................C=10, gamma=0.1, kernel=linear; total time=   5.0s\n",
      "[CV] END .....................C=10, gamma=0.1, kernel=linear; total time=   5.1s\n",
      "[CV] END .......................C=10, gamma=0.01, kernel=rbf; total time=   6.1s\n",
      "[CV] END .......................C=10, gamma=0.01, kernel=rbf; total time=   6.2s\n",
      "[CV] END .......................C=10, gamma=0.01, kernel=rbf; total time=   5.9s\n",
      "[CV] END .......................C=10, gamma=0.01, kernel=rbf; total time=   6.1s\n",
      "[CV] END .......................C=10, gamma=0.01, kernel=rbf; total time=   6.0s\n",
      "[CV] END ......................C=10, gamma=0.01, kernel=poly; total time=   3.2s\n",
      "[CV] END ......................C=10, gamma=0.01, kernel=poly; total time=   3.4s\n",
      "[CV] END ......................C=10, gamma=0.01, kernel=poly; total time=   3.2s\n",
      "[CV] END ......................C=10, gamma=0.01, kernel=poly; total time=   3.1s\n",
      "[CV] END ......................C=10, gamma=0.01, kernel=poly; total time=   3.2s\n",
      "[CV] END ....................C=10, gamma=0.01, kernel=linear; total time=   5.3s\n",
      "[CV] END ....................C=10, gamma=0.01, kernel=linear; total time=   4.8s\n",
      "[CV] END ....................C=10, gamma=0.01, kernel=linear; total time=   7.5s\n",
      "[CV] END ....................C=10, gamma=0.01, kernel=linear; total time=   5.0s\n",
      "[CV] END ....................C=10, gamma=0.01, kernel=linear; total time=   5.2s\n",
      "[CV] END ......................C=10, gamma=0.001, kernel=rbf; total time=   4.6s\n",
      "[CV] END ......................C=10, gamma=0.001, kernel=rbf; total time=   4.6s\n",
      "[CV] END ......................C=10, gamma=0.001, kernel=rbf; total time=   4.5s\n",
      "[CV] END ......................C=10, gamma=0.001, kernel=rbf; total time=   4.5s\n",
      "[CV] END ......................C=10, gamma=0.001, kernel=rbf; total time=   4.7s\n",
      "[CV] END .....................C=10, gamma=0.001, kernel=poly; total time=   2.9s\n",
      "[CV] END .....................C=10, gamma=0.001, kernel=poly; total time=   2.9s\n",
      "[CV] END .....................C=10, gamma=0.001, kernel=poly; total time=   2.9s\n",
      "[CV] END .....................C=10, gamma=0.001, kernel=poly; total time=   2.9s\n",
      "[CV] END .....................C=10, gamma=0.001, kernel=poly; total time=   2.9s\n",
      "[CV] END ...................C=10, gamma=0.001, kernel=linear; total time=   5.3s\n",
      "[CV] END ...................C=10, gamma=0.001, kernel=linear; total time=   4.9s\n",
      "[CV] END ...................C=10, gamma=0.001, kernel=linear; total time=   7.4s\n",
      "[CV] END ...................C=10, gamma=0.001, kernel=linear; total time=   5.0s\n",
      "[CV] END ...................C=10, gamma=0.001, kernel=linear; total time=   5.2s\n",
      "[CV] END .........................C=100, gamma=1, kernel=rbf; total time=  28.4s\n",
      "[CV] END .........................C=100, gamma=1, kernel=rbf; total time=  27.3s\n",
      "[CV] END .........................C=100, gamma=1, kernel=rbf; total time=  25.7s\n",
      "[CV] END .........................C=100, gamma=1, kernel=rbf; total time=  27.7s\n",
      "[CV] END .........................C=100, gamma=1, kernel=rbf; total time=  28.7s\n",
      "[CV] END ........................C=100, gamma=1, kernel=poly; total time=  14.2s\n",
      "[CV] END ........................C=100, gamma=1, kernel=poly; total time=  11.5s\n",
      "[CV] END ........................C=100, gamma=1, kernel=poly; total time=  10.8s\n",
      "[CV] END ........................C=100, gamma=1, kernel=poly; total time=  13.2s\n",
      "[CV] END ........................C=100, gamma=1, kernel=poly; total time=  10.4s\n",
      "[CV] END ......................C=100, gamma=1, kernel=linear; total time=22.3min\n",
      "[CV] END ......................C=100, gamma=1, kernel=linear; total time=22.3min\n",
      "[CV] END ......................C=100, gamma=1, kernel=linear; total time=20.8min\n",
      "[CV] END ......................C=100, gamma=1, kernel=linear; total time=21.9min\n",
      "[CV] END ......................C=100, gamma=1, kernel=linear; total time=22.4min\n",
      "[CV] END .......................C=100, gamma=0.1, kernel=rbf; total time=   6.9s\n",
      "[CV] END .......................C=100, gamma=0.1, kernel=rbf; total time=   6.9s\n",
      "[CV] END .......................C=100, gamma=0.1, kernel=rbf; total time=   6.6s\n",
      "[CV] END .......................C=100, gamma=0.1, kernel=rbf; total time=   7.0s\n",
      "[CV] END .......................C=100, gamma=0.1, kernel=rbf; total time=   6.9s\n",
      "[CV] END ......................C=100, gamma=0.1, kernel=poly; total time=   5.2s\n",
      "[CV] END ......................C=100, gamma=0.1, kernel=poly; total time=   5.2s\n",
      "[CV] END ......................C=100, gamma=0.1, kernel=poly; total time=   5.0s\n"
     ]
    },
    {
     "name": "stdout",
     "output_type": "stream",
     "text": [
      "[CV] END ......................C=100, gamma=0.1, kernel=poly; total time=   5.2s\n",
      "[CV] END ......................C=100, gamma=0.1, kernel=poly; total time=   5.1s\n",
      "[CV] END ....................C=100, gamma=0.1, kernel=linear; total time=22.5min\n",
      "[CV] END ....................C=100, gamma=0.1, kernel=linear; total time=22.4min\n",
      "[CV] END ....................C=100, gamma=0.1, kernel=linear; total time=20.5min\n",
      "[CV] END ....................C=100, gamma=0.1, kernel=linear; total time=21.6min\n",
      "[CV] END ....................C=100, gamma=0.1, kernel=linear; total time=61.2min\n",
      "[CV] END ......................C=100, gamma=0.01, kernel=rbf; total time=   7.9s\n",
      "[CV] END ......................C=100, gamma=0.01, kernel=rbf; total time=   8.0s\n",
      "[CV] END ......................C=100, gamma=0.01, kernel=rbf; total time=   7.5s\n",
      "[CV] END ......................C=100, gamma=0.01, kernel=rbf; total time=   7.8s\n",
      "[CV] END ......................C=100, gamma=0.01, kernel=rbf; total time=   8.2s\n",
      "[CV] END .....................C=100, gamma=0.01, kernel=poly; total time=   4.4s\n",
      "[CV] END .....................C=100, gamma=0.01, kernel=poly; total time=   5.0s\n",
      "[CV] END .....................C=100, gamma=0.01, kernel=poly; total time=   4.8s\n",
      "[CV] END .....................C=100, gamma=0.01, kernel=poly; total time=   4.3s\n",
      "[CV] END .....................C=100, gamma=0.01, kernel=poly; total time=   4.9s\n",
      "[CV] END ...................C=100, gamma=0.01, kernel=linear; total time=22.3min\n",
      "[CV] END ...................C=100, gamma=0.01, kernel=linear; total time=22.1min\n",
      "[CV] END ...................C=100, gamma=0.01, kernel=linear; total time=20.5min\n",
      "[CV] END ...................C=100, gamma=0.01, kernel=linear; total time=21.6min\n",
      "[CV] END ...................C=100, gamma=0.01, kernel=linear; total time=22.2min\n",
      "[CV] END .....................C=100, gamma=0.001, kernel=rbf; total time=   8.5s\n",
      "[CV] END .....................C=100, gamma=0.001, kernel=rbf; total time=   8.3s\n",
      "[CV] END .....................C=100, gamma=0.001, kernel=rbf; total time=   8.1s\n",
      "[CV] END .....................C=100, gamma=0.001, kernel=rbf; total time=   8.5s\n",
      "[CV] END .....................C=100, gamma=0.001, kernel=rbf; total time=   8.3s\n",
      "[CV] END ....................C=100, gamma=0.001, kernel=poly; total time=   2.9s\n",
      "[CV] END ....................C=100, gamma=0.001, kernel=poly; total time=   2.9s\n",
      "[CV] END ....................C=100, gamma=0.001, kernel=poly; total time=   2.9s\n",
      "[CV] END ....................C=100, gamma=0.001, kernel=poly; total time=   2.9s\n",
      "[CV] END ....................C=100, gamma=0.001, kernel=poly; total time=   3.0s\n",
      "[CV] END ..................C=100, gamma=0.001, kernel=linear; total time=22.6min\n",
      "[CV] END ..................C=100, gamma=0.001, kernel=linear; total time=22.7min\n",
      "[CV] END ..................C=100, gamma=0.001, kernel=linear; total time=21.0min\n",
      "[CV] END ..................C=100, gamma=0.001, kernel=linear; total time=23.7min\n",
      "[CV] END ..................C=100, gamma=0.001, kernel=linear; total time=29.6min\n"
     ]
    },
    {
     "data": {
      "text/plain": [
       "GridSearchCV(estimator=SVC(),\n",
       "             param_grid={'C': [0.1, 1, 10, 100], 'gamma': [1, 0.1, 0.01, 0.001],\n",
       "                         'kernel': ['rbf', 'poly', 'linear']},\n",
       "             scoring='precision', verbose=2)"
      ]
     },
     "execution_count": 83,
     "metadata": {},
     "output_type": "execute_result"
    }
   ],
   "source": [
    "grid = GridSearchCV(SVC(),param_grid,refit=True,verbose=2,scoring='precision')\n",
    "grid.fit(x_train_Text,y_train_Text)"
   ]
  },
  {
   "cell_type": "code",
   "execution_count": 84,
   "id": "d410cc52",
   "metadata": {},
   "outputs": [
    {
     "data": {
      "text/plain": [
       "{'C': 0.1, 'gamma': 1, 'kernel': 'rbf'}"
      ]
     },
     "execution_count": 84,
     "metadata": {},
     "output_type": "execute_result"
    }
   ],
   "source": [
    "grid.best_params_"
   ]
  },
  {
   "cell_type": "code",
   "execution_count": 86,
   "id": "1c22e55a",
   "metadata": {},
   "outputs": [
    {
     "name": "stdout",
     "output_type": "stream",
     "text": [
      "METRICS:\n",
      "\n",
      "Recall: 0.055\n",
      "Precision: 0.821\n",
      "F1 Score: 0.102\n",
      "__________________________________________________________________________\n",
      "\n",
      "Confusion Matrix: \n",
      " \n"
     ]
    },
    {
     "data": {
      "image/png": "[encoded data removed]",
      "text/plain": [
       "<Figure size 576x288 with 2 Axes>"
      ]
     },
     "metadata": {
      "needs_background": "light"
     },
     "output_type": "display_data"
    },
    {
     "data": {
      "text/plain": [
       "(0.054502369668246446, 0.8214285714285714, 0.10222222222222223)"
      ]
     },
     "execution_count": 86,
     "metadata": {},
     "output_type": "execute_result"
    }
   ],
   "source": [
    "support_clf = SVC(kernel=grid.best_params_['kernel'],C=grid.best_params_['C'],gamma=grid.best_params_['gamma'])\n",
    "support_clf.fit(x_train_Text,y_train_Text)\n",
    "clf_report_metrics(model=support_clf,x_test=x_test_Text,y_test=y_test_Text)"
   ]
  },
  {
   "cell_type": "markdown",
   "id": "7ba33c91",
   "metadata": {},
   "source": [
    "After tuning the hyperparameter, we do see a drastic improvement on our precision score. While the learning algorithm hugely decreases the false positive, which is our objective intially, however, looking at the confusion matrix and recall score, this comes at the expense of decreasing the true positives and increasing the false negatives. This is the trade off betweeen precision and recall.\n",
    "\n",
    "What does it means in our model? It means that to generate high precision,<I><b> when the learning algorithm is unsure, it will likely to output as 0 than to take a risk to output as 1. </b></I>\n",
    "\n",
    "We will next ask ourselves, does this suit the needs of an imaginary client? What we have in mind initially is that the imaginary client comes to us to ask for an advice whether his campaign will succeed or not? While our model is currently having a high prediction of false negative, when it is <b>confident in predicting the client will succeed, chances are he will likely to succeed (level of confidence is 82% from our model). </b>\n",
    "\n",
    "This is <b>definitely better than when we tell he will succeed, he ended up not succeeding in his campaign</b> (high false positive). Hence, we can say that our model did pretty well in its performance."
   ]
  },
  {
   "cell_type": "markdown",
   "id": "636563f2",
   "metadata": {},
   "source": [
    "Also, from our models, we see that there is <I><b>no significant difference between SVC and XGB classifier even after hyperparameter tuning</b></I>. Hence, we still can't come into an agreement which is a better model. Hence, we will <b>use both models</b> in helping us to <b>predict the success state of the campaign</b>. "
   ]
  }
 ],
 "metadata": {
  "kernelspec": {
   "display_name": "Python 3 (ipykernel)",
   "language": "python",
   "name": "python3"
  },
  "language_info": {
   "codemirror_mode": {
    "name": "ipython",
    "version": 3
   },
   "file_extension": ".py",
   "mimetype": "text/x-python",
   "name": "python",
   "nbconvert_exporter": "python",
   "pygments_lexer": "ipython3",
   "version": "3.9.7"
  }
 },
 "nbformat": 4,
 "nbformat_minor": 5
}
