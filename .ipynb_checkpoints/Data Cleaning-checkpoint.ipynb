{
 "cells": [
  {
   "cell_type": "code",
   "execution_count": 1,
   "id": "f8af5ff6",
   "metadata": {},
   "outputs": [
    {
     "name": "stdout",
     "output_type": "stream",
     "text": [
      "Done!\n"
     ]
    }
   ],
   "source": [
    "import pandas as pd\n",
    "import numpy as np\n",
    "import pathlib\n",
    "import os\n",
    "pd.set_option('display.max_columns', None)\n",
    "pd.set_option('display.max_rows', None)\n",
    "print(\"Done!\")"
   ]
  },
  {
   "cell_type": "code",
   "execution_count": 2,
   "id": "ff428c85",
   "metadata": {},
   "outputs": [
    {
     "data": {
      "text/plain": [
       "(20631, 74)"
      ]
     },
     "execution_count": 2,
     "metadata": {},
     "output_type": "execute_result"
    }
   ],
   "source": [
    "# file path\n",
    "path = pathlib.Path(\"indiegogo.csv\").parent.resolve()\n",
    "target_file = \"indiegogo.csv\"\n",
    "df = pd.read_csv(os.path.join(path,target_file))\n",
    "df.shape"
   ]
  },
  {
   "cell_type": "code",
   "execution_count": 3,
   "id": "d4268827",
   "metadata": {},
   "outputs": [
    {
     "data": {
      "text/plain": [
       "currency               0\n",
       "category               0\n",
       "year_end               0\n",
       "month_end              0\n",
       "day_end                0\n",
       "time_end               0\n",
       "amount_raised          0\n",
       "funded_percent         0\n",
       "in_demand              0\n",
       "year_launch            0\n",
       "month_launch           0\n",
       "day_launch             0\n",
       "time_launch            0\n",
       "project_id             0\n",
       "tagline               12\n",
       "title                  5\n",
       "url                    0\n",
       "state                  0\n",
       "date_launch            0\n",
       "date_end               0\n",
       "amount_raised_usd      0\n",
       "goal_usd               0\n",
       "australia              0\n",
       "canada                 0\n",
       "switzerland            0\n",
       "denmark                0\n",
       "western_europe         0\n",
       "great_britain          0\n",
       "hong_kong              0\n",
       "norway                 0\n",
       "sweden                 0\n",
       "singapore              0\n",
       "united_states          0\n",
       "education              0\n",
       "productivity           0\n",
       "energy_greentech       0\n",
       "wellness               0\n",
       "comics                 0\n",
       "fashion_wearables      0\n",
       "video_games            0\n",
       "photography            0\n",
       "tv_shows               0\n",
       "dance_theater          0\n",
       "phones_accessories     0\n",
       "audio                  0\n",
       "film                   0\n",
       "transportation         0\n",
       "art                    0\n",
       "environment            0\n",
       "writing_publishing     0\n",
       "music                  0\n",
       "travel_outdoors        0\n",
       "health_fitness         0\n",
       "tabletop_games         0\n",
       "home                   0\n",
       "local_business         0\n",
       "food_beverage          0\n",
       "culture                0\n",
       "human_rights           0\n",
       "podcasts_vlogs         0\n",
       "camera_gear            0\n",
       "jan                    0\n",
       "feb                    0\n",
       "mar                    0\n",
       "apr                    0\n",
       "may                    0\n",
       "jun                    0\n",
       "jul                    0\n",
       "aug                    0\n",
       "sep                    0\n",
       "oct                    0\n",
       "nov                    0\n",
       "dec                    0\n",
       "tperiod                0\n",
       "dtype: int64"
      ]
     },
     "execution_count": 3,
     "metadata": {},
     "output_type": "execute_result"
    }
   ],
   "source": [
    "df.isnull().sum()"
   ]
  },
  {
   "cell_type": "code",
   "execution_count": 4,
   "id": "9afa6ff0",
   "metadata": {},
   "outputs": [],
   "source": [
    "# getting the list of index for null value in that tagline and title column\n",
    "lst1 = list(df.loc[df.title.isnull()].index)\n",
    "lst2 = list(df.loc[df.tagline.isnull()].index)\n",
    "\n",
    "# list of unique rows that contains either no tagline, no title or neither\n",
    "nan_lst = list(set(lst1 + lst2))\n",
    "df_new = df.drop(nan_lst)\n",
    "\n",
    "# df_new.isnull().sum()"
   ]
  },
  {
   "cell_type": "code",
   "execution_count": 5,
   "id": "85b5c56a",
   "metadata": {},
   "outputs": [
    {
     "data": {
      "text/plain": [
       "0.063"
      ]
     },
     "execution_count": 5,
     "metadata": {},
     "output_type": "execute_result"
    }
   ],
   "source": [
    "# total data loss as a percentage\n",
    "round((df.shape[0]-df_new.shape[0])/(df.shape[0]),5) * 100"
   ]
  },
  {
   "cell_type": "markdown",
   "id": "e6c069ee",
   "metadata": {},
   "source": [
    "Since we get very little loss in data <b>(0.063%)</b> after dropping the rows of null values, we will drop these rows"
   ]
  },
  {
   "cell_type": "code",
   "execution_count": 6,
   "id": "1a8d5ced",
   "metadata": {},
   "outputs": [],
   "source": [
    "# outputting to csv\n",
    "df_new.to_csv('data.csv')"
   ]
  }
 ],
 "metadata": {
  "kernelspec": {
   "display_name": "Python 3 (ipykernel)",
   "language": "python",
   "name": "python3"
  },
  "language_info": {
   "codemirror_mode": {
    "name": "ipython",
    "version": 3
   },
   "file_extension": ".py",
   "mimetype": "text/x-python",
   "name": "python",
   "nbconvert_exporter": "python",
   "pygments_lexer": "ipython3",
   "version": "3.9.7"
  }
 },
 "nbformat": 4,
 "nbformat_minor": 5
}
