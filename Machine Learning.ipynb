{
 "cells": [
  {
   "cell_type": "code",
   "execution_count": 1,
   "id": "1292808e",
   "metadata": {},
   "outputs": [
    {
     "name": "stdout",
     "output_type": "stream",
     "text": [
      "done\n"
     ]
    }
   ],
   "source": [
    "import pandas as pd\n",
    "import numpy as np\n",
    "import matplotlib.pyplot as plt\n",
    "import seaborn as sns\n",
    "from sklearn.preprocessing import LabelEncoder\n",
    "print(\"done\")\n"
   ]
  },
  {
   "cell_type": "code",
   "execution_count": 2,
   "id": "006a1623",
   "metadata": {},
   "outputs": [
    {
     "data": {
      "text/html": [
       "<div>\n",
       "<style scoped>\n",
       "    .dataframe tbody tr th:only-of-type {\n",
       "        vertical-align: middle;\n",
       "    }\n",
       "\n",
       "    .dataframe tbody tr th {\n",
       "        vertical-align: top;\n",
       "    }\n",
       "\n",
       "    .dataframe thead th {\n",
       "        text-align: right;\n",
       "    }\n",
       "</style>\n",
       "<table border=\"1\" class=\"dataframe\">\n",
       "  <thead>\n",
       "    <tr style=\"text-align: right;\">\n",
       "      <th></th>\n",
       "      <th>Unnamed: 0</th>\n",
       "      <th>Total_Days</th>\n",
       "      <th>amount_raised_usd</th>\n",
       "      <th>amount_raised_usd_boxcox</th>\n",
       "      <th>state</th>\n",
       "      <th>currency</th>\n",
       "      <th>category</th>\n",
       "      <th>month_launch</th>\n",
       "    </tr>\n",
       "  </thead>\n",
       "  <tbody>\n",
       "    <tr>\n",
       "      <th>0</th>\n",
       "      <td>0</td>\n",
       "      <td>21</td>\n",
       "      <td>840.0</td>\n",
       "      <td>5.514380</td>\n",
       "      <td>0</td>\n",
       "      <td>USD</td>\n",
       "      <td>Transportation</td>\n",
       "      <td>4</td>\n",
       "    </tr>\n",
       "    <tr>\n",
       "      <th>1</th>\n",
       "      <td>1</td>\n",
       "      <td>22</td>\n",
       "      <td>250.0</td>\n",
       "      <td>4.682444</td>\n",
       "      <td>0</td>\n",
       "      <td>USD</td>\n",
       "      <td>Human Rights</td>\n",
       "      <td>6</td>\n",
       "    </tr>\n",
       "    <tr>\n",
       "      <th>2</th>\n",
       "      <td>2</td>\n",
       "      <td>22</td>\n",
       "      <td>200.0</td>\n",
       "      <td>4.522399</td>\n",
       "      <td>0</td>\n",
       "      <td>USD</td>\n",
       "      <td>Human Rights</td>\n",
       "      <td>6</td>\n",
       "    </tr>\n",
       "    <tr>\n",
       "      <th>3</th>\n",
       "      <td>3</td>\n",
       "      <td>30</td>\n",
       "      <td>500.0</td>\n",
       "      <td>5.165823</td>\n",
       "      <td>0</td>\n",
       "      <td>USD</td>\n",
       "      <td>Photography</td>\n",
       "      <td>9</td>\n",
       "    </tr>\n",
       "    <tr>\n",
       "      <th>4</th>\n",
       "      <td>4</td>\n",
       "      <td>120</td>\n",
       "      <td>360.0</td>\n",
       "      <td>4.939299</td>\n",
       "      <td>0</td>\n",
       "      <td>USD</td>\n",
       "      <td>Human Rights</td>\n",
       "      <td>9</td>\n",
       "    </tr>\n",
       "  </tbody>\n",
       "</table>\n",
       "</div>"
      ],
      "text/plain": [
       "   Unnamed: 0  Total_Days  amount_raised_usd  amount_raised_usd_boxcox  state  \\\n",
       "0           0          21              840.0                  5.514380      0   \n",
       "1           1          22              250.0                  4.682444      0   \n",
       "2           2          22              200.0                  4.522399      0   \n",
       "3           3          30              500.0                  5.165823      0   \n",
       "4           4         120              360.0                  4.939299      0   \n",
       "\n",
       "  currency        category  month_launch  \n",
       "0      USD  Transportation             4  \n",
       "1      USD    Human Rights             6  \n",
       "2      USD    Human Rights             6  \n",
       "3      USD     Photography             9  \n",
       "4      USD    Human Rights             9  "
      ]
     },
     "execution_count": 2,
     "metadata": {},
     "output_type": "execute_result"
    }
   ],
   "source": [
    "df = pd.read_csv(\"variables.csv\")\n",
    "df.head()"
   ]
  },
  {
   "cell_type": "code",
   "execution_count": 3,
   "id": "bd201fb9",
   "metadata": {},
   "outputs": [
    {
     "data": {
      "text/html": [
       "<div>\n",
       "<style scoped>\n",
       "    .dataframe tbody tr th:only-of-type {\n",
       "        vertical-align: middle;\n",
       "    }\n",
       "\n",
       "    .dataframe tbody tr th {\n",
       "        vertical-align: top;\n",
       "    }\n",
       "\n",
       "    .dataframe thead th {\n",
       "        text-align: right;\n",
       "    }\n",
       "</style>\n",
       "<table border=\"1\" class=\"dataframe\">\n",
       "  <thead>\n",
       "    <tr style=\"text-align: right;\">\n",
       "      <th></th>\n",
       "      <th>Total_Days</th>\n",
       "      <th>amount_raised_usd</th>\n",
       "      <th>amount_raised_usd_boxcox</th>\n",
       "      <th>state</th>\n",
       "      <th>currency</th>\n",
       "      <th>category</th>\n",
       "      <th>month_launch</th>\n",
       "    </tr>\n",
       "  </thead>\n",
       "  <tbody>\n",
       "    <tr>\n",
       "      <th>0</th>\n",
       "      <td>21</td>\n",
       "      <td>840.0</td>\n",
       "      <td>5.514380</td>\n",
       "      <td>0</td>\n",
       "      <td>USD</td>\n",
       "      <td>Transportation</td>\n",
       "      <td>4</td>\n",
       "    </tr>\n",
       "    <tr>\n",
       "      <th>1</th>\n",
       "      <td>22</td>\n",
       "      <td>250.0</td>\n",
       "      <td>4.682444</td>\n",
       "      <td>0</td>\n",
       "      <td>USD</td>\n",
       "      <td>Human Rights</td>\n",
       "      <td>6</td>\n",
       "    </tr>\n",
       "    <tr>\n",
       "      <th>2</th>\n",
       "      <td>22</td>\n",
       "      <td>200.0</td>\n",
       "      <td>4.522399</td>\n",
       "      <td>0</td>\n",
       "      <td>USD</td>\n",
       "      <td>Human Rights</td>\n",
       "      <td>6</td>\n",
       "    </tr>\n",
       "    <tr>\n",
       "      <th>3</th>\n",
       "      <td>30</td>\n",
       "      <td>500.0</td>\n",
       "      <td>5.165823</td>\n",
       "      <td>0</td>\n",
       "      <td>USD</td>\n",
       "      <td>Photography</td>\n",
       "      <td>9</td>\n",
       "    </tr>\n",
       "    <tr>\n",
       "      <th>4</th>\n",
       "      <td>120</td>\n",
       "      <td>360.0</td>\n",
       "      <td>4.939299</td>\n",
       "      <td>0</td>\n",
       "      <td>USD</td>\n",
       "      <td>Human Rights</td>\n",
       "      <td>9</td>\n",
       "    </tr>\n",
       "  </tbody>\n",
       "</table>\n",
       "</div>"
      ],
      "text/plain": [
       "   Total_Days  amount_raised_usd  amount_raised_usd_boxcox  state currency  \\\n",
       "0          21              840.0                  5.514380      0      USD   \n",
       "1          22              250.0                  4.682444      0      USD   \n",
       "2          22              200.0                  4.522399      0      USD   \n",
       "3          30              500.0                  5.165823      0      USD   \n",
       "4         120              360.0                  4.939299      0      USD   \n",
       "\n",
       "         category  month_launch  \n",
       "0  Transportation             4  \n",
       "1    Human Rights             6  \n",
       "2    Human Rights             6  \n",
       "3     Photography             9  \n",
       "4    Human Rights             9  "
      ]
     },
     "execution_count": 3,
     "metadata": {},
     "output_type": "execute_result"
    }
   ],
   "source": [
    "df = df.drop(['Unnamed: 0'],axis=1)\n",
    "df.head()"
   ]
  },
  {
   "cell_type": "code",
   "execution_count": 4,
   "id": "215e6800",
   "metadata": {},
   "outputs": [
    {
     "data": {
      "text/html": [
       "<div>\n",
       "<style scoped>\n",
       "    .dataframe tbody tr th:only-of-type {\n",
       "        vertical-align: middle;\n",
       "    }\n",
       "\n",
       "    .dataframe tbody tr th {\n",
       "        vertical-align: top;\n",
       "    }\n",
       "\n",
       "    .dataframe thead th {\n",
       "        text-align: right;\n",
       "    }\n",
       "</style>\n",
       "<table border=\"1\" class=\"dataframe\">\n",
       "  <thead>\n",
       "    <tr style=\"text-align: right;\">\n",
       "      <th></th>\n",
       "      <th>Total_Days</th>\n",
       "      <th>currency</th>\n",
       "      <th>category</th>\n",
       "      <th>month_launch</th>\n",
       "    </tr>\n",
       "  </thead>\n",
       "  <tbody>\n",
       "    <tr>\n",
       "      <th>0</th>\n",
       "      <td>21</td>\n",
       "      <td>USD</td>\n",
       "      <td>Transportation</td>\n",
       "      <td>4</td>\n",
       "    </tr>\n",
       "    <tr>\n",
       "      <th>1</th>\n",
       "      <td>22</td>\n",
       "      <td>USD</td>\n",
       "      <td>Human Rights</td>\n",
       "      <td>6</td>\n",
       "    </tr>\n",
       "    <tr>\n",
       "      <th>2</th>\n",
       "      <td>22</td>\n",
       "      <td>USD</td>\n",
       "      <td>Human Rights</td>\n",
       "      <td>6</td>\n",
       "    </tr>\n",
       "    <tr>\n",
       "      <th>3</th>\n",
       "      <td>30</td>\n",
       "      <td>USD</td>\n",
       "      <td>Photography</td>\n",
       "      <td>9</td>\n",
       "    </tr>\n",
       "    <tr>\n",
       "      <th>4</th>\n",
       "      <td>120</td>\n",
       "      <td>USD</td>\n",
       "      <td>Human Rights</td>\n",
       "      <td>9</td>\n",
       "    </tr>\n",
       "  </tbody>\n",
       "</table>\n",
       "</div>"
      ],
      "text/plain": [
       "   Total_Days currency        category  month_launch\n",
       "0          21      USD  Transportation             4\n",
       "1          22      USD    Human Rights             6\n",
       "2          22      USD    Human Rights             6\n",
       "3          30      USD     Photography             9\n",
       "4         120      USD    Human Rights             9"
      ]
     },
     "execution_count": 4,
     "metadata": {},
     "output_type": "execute_result"
    }
   ],
   "source": [
    "df_x = df[['Total_Days','currency','category','month_launch']]\n",
    "df_x.head()"
   ]
  },
  {
   "cell_type": "code",
   "execution_count": 5,
   "id": "6c5d4d66",
   "metadata": {},
   "outputs": [
    {
     "data": {
      "text/html": [
       "<div>\n",
       "<style scoped>\n",
       "    .dataframe tbody tr th:only-of-type {\n",
       "        vertical-align: middle;\n",
       "    }\n",
       "\n",
       "    .dataframe tbody tr th {\n",
       "        vertical-align: top;\n",
       "    }\n",
       "\n",
       "    .dataframe thead th {\n",
       "        text-align: right;\n",
       "    }\n",
       "</style>\n",
       "<table border=\"1\" class=\"dataframe\">\n",
       "  <thead>\n",
       "    <tr style=\"text-align: right;\">\n",
       "      <th></th>\n",
       "      <th>amount_raised_usd_boxcox</th>\n",
       "      <th>state</th>\n",
       "    </tr>\n",
       "  </thead>\n",
       "  <tbody>\n",
       "    <tr>\n",
       "      <th>0</th>\n",
       "      <td>5.514380</td>\n",
       "      <td>0</td>\n",
       "    </tr>\n",
       "    <tr>\n",
       "      <th>1</th>\n",
       "      <td>4.682444</td>\n",
       "      <td>0</td>\n",
       "    </tr>\n",
       "    <tr>\n",
       "      <th>2</th>\n",
       "      <td>4.522399</td>\n",
       "      <td>0</td>\n",
       "    </tr>\n",
       "    <tr>\n",
       "      <th>3</th>\n",
       "      <td>5.165823</td>\n",
       "      <td>0</td>\n",
       "    </tr>\n",
       "    <tr>\n",
       "      <th>4</th>\n",
       "      <td>4.939299</td>\n",
       "      <td>0</td>\n",
       "    </tr>\n",
       "  </tbody>\n",
       "</table>\n",
       "</div>"
      ],
      "text/plain": [
       "   amount_raised_usd_boxcox  state\n",
       "0                  5.514380      0\n",
       "1                  4.682444      0\n",
       "2                  4.522399      0\n",
       "3                  5.165823      0\n",
       "4                  4.939299      0"
      ]
     },
     "execution_count": 5,
     "metadata": {},
     "output_type": "execute_result"
    }
   ],
   "source": [
    "df_y = df[['amount_raised_usd_boxcox','state']]\n",
    "df_y.head()"
   ]
  },
  {
   "cell_type": "code",
   "execution_count": 7,
   "id": "465d7e0b",
   "metadata": {},
   "outputs": [
    {
     "name": "stdout",
     "output_type": "stream",
     "text": [
      "<class 'pandas.core.frame.DataFrame'>\n",
      "RangeIndex: 20618 entries, 0 to 20617\n",
      "Data columns (total 4 columns):\n",
      " #   Column        Non-Null Count  Dtype \n",
      "---  ------        --------------  ----- \n",
      " 0   Total_Days    20618 non-null  int64 \n",
      " 1   currency      20618 non-null  object\n",
      " 2   category      20618 non-null  object\n",
      " 3   month_launch  20618 non-null  int64 \n",
      "dtypes: int64(2), object(2)\n",
      "memory usage: 644.4+ KB\n"
     ]
    }
   ],
   "source": [
    "df_x.info()"
   ]
  },
  {
   "cell_type": "code",
   "execution_count": 10,
   "id": "4f246404",
   "metadata": {
    "collapsed": true
   },
   "outputs": [
    {
     "name": "stdout",
     "output_type": "stream",
     "text": [
      "<class 'pandas.core.frame.DataFrame'>\n",
      "RangeIndex: 20618 entries, 0 to 20617\n",
      "Data columns (total 4 columns):\n",
      " #   Column        Non-Null Count  Dtype \n",
      "---  ------        --------------  ----- \n",
      " 0   Total_Days    20618 non-null  object\n",
      " 1   currency      20618 non-null  object\n",
      " 2   category      20618 non-null  object\n",
      " 3   month_launch  20618 non-null  object\n",
      "dtypes: object(4)\n",
      "memory usage: 644.4+ KB\n"
     ]
    },
    {
     "name": "stderr",
     "output_type": "stream",
     "text": [
      "C:\\Users\\user\\AppData\\Local\\Temp/ipykernel_14644/3731613051.py:1: SettingWithCopyWarning: \n",
      "A value is trying to be set on a copy of a slice from a DataFrame.\n",
      "Try using .loc[row_indexer,col_indexer] = value instead\n",
      "\n",
      "See the caveats in the documentation: https://pandas.pydata.org/pandas-docs/stable/user_guide/indexing.html#returning-a-view-versus-a-copy\n",
      "  df_x['Total_Days'] = df_x['Total_Days'].astype('object')\n",
      "C:\\Users\\user\\AppData\\Local\\Temp/ipykernel_14644/3731613051.py:2: SettingWithCopyWarning: \n",
      "A value is trying to be set on a copy of a slice from a DataFrame.\n",
      "Try using .loc[row_indexer,col_indexer] = value instead\n",
      "\n",
      "See the caveats in the documentation: https://pandas.pydata.org/pandas-docs/stable/user_guide/indexing.html#returning-a-view-versus-a-copy\n",
      "  df_x['month_launch'] = df_x['month_launch'].astype('object')\n"
     ]
    }
   ],
   "source": [
    "# change datatype to object\n",
    "df_x['Total_Days'] = df_x['Total_Days'].astype('object')\n",
    "df_x['month_launch'] = df_x['month_launch'].astype('object')\n",
    "df_x.info()\n"
   ]
  },
  {
   "cell_type": "code",
   "execution_count": 11,
   "id": "4298b91a",
   "metadata": {},
   "outputs": [
    {
     "data": {
      "text/plain": [
       "Index(['Total_Days', 'currency', 'category', 'month_launch'], dtype='object')"
      ]
     },
     "execution_count": 11,
     "metadata": {},
     "output_type": "execute_result"
    }
   ],
   "source": [
    "label = LabelEncoder()\n",
    "x_col = df_x.columns\n",
    "x_col\n"
   ]
  },
  {
   "cell_type": "code",
   "execution_count": 12,
   "id": "b45de7ae",
   "metadata": {},
   "outputs": [
    {
     "name": "stderr",
     "output_type": "stream",
     "text": [
      "C:\\Users\\user\\AppData\\Local\\Temp/ipykernel_14644/1092175130.py:2: SettingWithCopyWarning: \n",
      "A value is trying to be set on a copy of a slice from a DataFrame.\n",
      "Try using .loc[row_indexer,col_indexer] = value instead\n",
      "\n",
      "See the caveats in the documentation: https://pandas.pydata.org/pandas-docs/stable/user_guide/indexing.html#returning-a-view-versus-a-copy\n",
      "  df_x[col] = label.fit_transform(df_x[col])\n"
     ]
    }
   ],
   "source": [
    "for col in x_col:\n",
    "    df_x[col] = label.fit_transform(df_x[col])"
   ]
  },
  {
   "cell_type": "code",
   "execution_count": 13,
   "id": "6e9139a5",
   "metadata": {},
   "outputs": [
    {
     "data": {
      "text/html": [
       "<div>\n",
       "<style scoped>\n",
       "    .dataframe tbody tr th:only-of-type {\n",
       "        vertical-align: middle;\n",
       "    }\n",
       "\n",
       "    .dataframe tbody tr th {\n",
       "        vertical-align: top;\n",
       "    }\n",
       "\n",
       "    .dataframe thead th {\n",
       "        text-align: right;\n",
       "    }\n",
       "</style>\n",
       "<table border=\"1\" class=\"dataframe\">\n",
       "  <thead>\n",
       "    <tr style=\"text-align: right;\">\n",
       "      <th></th>\n",
       "      <th>Total_Days</th>\n",
       "      <th>currency</th>\n",
       "      <th>category</th>\n",
       "      <th>month_launch</th>\n",
       "    </tr>\n",
       "  </thead>\n",
       "  <tbody>\n",
       "    <tr>\n",
       "      <th>0</th>\n",
       "      <td>21</td>\n",
       "      <td>10</td>\n",
       "      <td>22</td>\n",
       "      <td>3</td>\n",
       "    </tr>\n",
       "    <tr>\n",
       "      <th>1</th>\n",
       "      <td>22</td>\n",
       "      <td>10</td>\n",
       "      <td>14</td>\n",
       "      <td>5</td>\n",
       "    </tr>\n",
       "    <tr>\n",
       "      <th>2</th>\n",
       "      <td>22</td>\n",
       "      <td>10</td>\n",
       "      <td>14</td>\n",
       "      <td>5</td>\n",
       "    </tr>\n",
       "    <tr>\n",
       "      <th>3</th>\n",
       "      <td>30</td>\n",
       "      <td>10</td>\n",
       "      <td>18</td>\n",
       "      <td>8</td>\n",
       "    </tr>\n",
       "    <tr>\n",
       "      <th>4</th>\n",
       "      <td>96</td>\n",
       "      <td>10</td>\n",
       "      <td>14</td>\n",
       "      <td>8</td>\n",
       "    </tr>\n",
       "  </tbody>\n",
       "</table>\n",
       "</div>"
      ],
      "text/plain": [
       "   Total_Days  currency  category  month_launch\n",
       "0          21        10        22             3\n",
       "1          22        10        14             5\n",
       "2          22        10        14             5\n",
       "3          30        10        18             8\n",
       "4          96        10        14             8"
      ]
     },
     "execution_count": 13,
     "metadata": {},
     "output_type": "execute_result"
    }
   ],
   "source": [
    "df_x.head()"
   ]
  },
  {
   "cell_type": "code",
   "execution_count": 14,
   "id": "c7f85b16",
   "metadata": {},
   "outputs": [
    {
     "name": "stdout",
     "output_type": "stream",
     "text": [
      "<class 'pandas.core.frame.DataFrame'>\n",
      "RangeIndex: 20618 entries, 0 to 20617\n",
      "Data columns (total 4 columns):\n",
      " #   Column        Non-Null Count  Dtype\n",
      "---  ------        --------------  -----\n",
      " 0   Total_Days    20618 non-null  int32\n",
      " 1   currency      20618 non-null  int32\n",
      " 2   category      20618 non-null  int32\n",
      " 3   month_launch  20618 non-null  int32\n",
      "dtypes: int32(4)\n",
      "memory usage: 322.3 KB\n"
     ]
    }
   ],
   "source": [
    "df_x.info()"
   ]
  },
  {
   "cell_type": "code",
   "execution_count": 19,
   "id": "fd1ebf76",
   "metadata": {},
   "outputs": [
    {
     "data": {
      "text/plain": [
       "array([ 21,  22,  30,  96,  42,  60,  92,  63,  75,  59,  66,  86,  15,\n",
       "        56,  65,  48,  31,  28,  83,  32,  90,  58,  18,  41,  85,  98,\n",
       "        51,  70,  50,  23,  52,  64,  26,  61,  40,  91,  29,  78,  55,\n",
       "        24,  35,  46,  69,  20,  43,  45,  97,   0,   6,  11,  44,   3,\n",
       "        99,  19,  53,  39,  17,  49,  12,  84,  10,  95,  38,  37, 100,\n",
       "         8,  25,  73,  13,  89,  68,  47,  33,  34,  14,  16,  93,  57,\n",
       "        88,  71,   9,  27,  94,   5,  54,   7,  36,  77,  80,   1,  67,\n",
       "         4,   2, 106,  87, 103, 102,  76, 105, 104,  79,  82,  72,  74,\n",
       "       101,  81,  62])"
      ]
     },
     "execution_count": 19,
     "metadata": {},
     "output_type": "execute_result"
    }
   ],
   "source": [
    "df_x.Total_Days.unique()"
   ]
  },
  {
   "cell_type": "code",
   "execution_count": 20,
   "id": "f8bf11e9",
   "metadata": {},
   "outputs": [
    {
     "data": {
      "text/plain": [
       "array([10,  4,  1,  5,  0,  6,  8,  2,  9,  3,  7])"
      ]
     },
     "execution_count": 20,
     "metadata": {},
     "output_type": "execute_result"
    }
   ],
   "source": [
    "df_x.currency.unique()"
   ]
  },
  {
   "cell_type": "code",
   "execution_count": 22,
   "id": "0a47d9de",
   "metadata": {},
   "outputs": [
    {
     "data": {
      "text/plain": [
       "array([22, 14, 18,  2, 26, 20,  1, 21,  7, 19,  4,  9, 15, 17,  5,  8, 24,\n",
       "       13, 16, 12,  6,  0, 27,  3, 11, 23, 10, 25])"
      ]
     },
     "execution_count": 22,
     "metadata": {},
     "output_type": "execute_result"
    }
   ],
   "source": [
    "df_x.category.unique()"
   ]
  },
  {
   "cell_type": "code",
   "execution_count": 23,
   "id": "8e36e095",
   "metadata": {},
   "outputs": [
    {
     "data": {
      "text/plain": [
       "array([ 3,  5,  8, 10, 11,  0,  1,  2,  4,  6,  7,  9])"
      ]
     },
     "execution_count": 23,
     "metadata": {},
     "output_type": "execute_result"
    }
   ],
   "source": [
    "df_x.month_launch.unique()"
   ]
  },
  {
   "cell_type": "code",
   "execution_count": null,
   "id": "88fd5dc0",
   "metadata": {},
   "outputs": [],
   "source": []
  }
 ],
 "metadata": {
  "kernelspec": {
   "display_name": "Python 3 (ipykernel)",
   "language": "python",
   "name": "python3"
  },
  "language_info": {
   "codemirror_mode": {
    "name": "ipython",
    "version": 3
   },
   "file_extension": ".py",
   "mimetype": "text/x-python",
   "name": "python",
   "nbconvert_exporter": "python",
   "pygments_lexer": "ipython3",
   "version": "3.9.7"
  }
 },
 "nbformat": 4,
 "nbformat_minor": 5
}
